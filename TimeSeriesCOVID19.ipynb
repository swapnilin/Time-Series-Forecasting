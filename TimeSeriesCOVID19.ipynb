{
  "cells": [
    {
      "cell_type": "markdown",
      "metadata": {
        "id": "gYwbiEO5eqYF"
      },
      "source": [
        "# Comparing time series predictions of COVID-19 deaths"
      ]
    },
    {
      "cell_type": "markdown",
      "source": [
        "### Using Statsmodels, XGBoost, Prophet"
      ],
      "metadata": {
        "id": "PmmGZRyRev8H"
      }
    },
    {
      "cell_type": "markdown",
      "metadata": {
        "id": "ok7kv4b8eqYH"
      },
      "source": [
        "\n",
        "![Comparison](Comparison.png)"
      ]
    },
    {
      "cell_type": "code",
      "source": [
        "#!pip install pmdarima\n",
        "#!pip install keras"
      ],
      "metadata": {
        "id": "ELCOHt08e-wn"
      },
      "execution_count": null,
      "outputs": []
    },
    {
      "cell_type": "code",
      "execution_count": null,
      "metadata": {
        "id": "31QiHeGYeqYI"
      },
      "outputs": [],
      "source": [
        "import pmdarima as pm\n",
        "from statsmodels.tsa.seasonal import seasonal_decompose\n",
        "from sklearn.model_selection import TimeSeriesSplit\n",
        "import pandas as pd\n",
        "import numpy as np\n",
        "import datetime\n",
        "import requests\n",
        "import warnings\n",
        "\n",
        "import matplotlib.pyplot as plt\n",
        "import matplotlib\n",
        "import matplotlib.dates as mdates\n",
        "\n",
        "from xgboost import XGBRegressor\n",
        "from sklearn.ensemble import RandomForestRegressor\n",
        "from sklearn.metrics import mean_squared_error, mean_absolute_error\n",
        "from sklearn.preprocessing import OrdinalEncoder\n",
        "from sklearn.svm import SVR\n",
        "from sklearn.model_selection import train_test_split\n",
        "from statsmodels.tsa.statespace.sarimax import SARIMAX\n",
        "from statsmodels.tsa.arima_model import ARIMA\n",
        "from sklearn.preprocessing import StandardScaler\n",
        "from fbprophet import Prophet\n",
        "from fbprophet.plot import plot_plotly, add_changepoints_to_plot\n",
        "from keras.models import Sequential\n",
        "from keras.layers import Dense\n",
        "\n",
        "from tensorflow.keras.optimizers import Adam\n",
        "\n",
        "warnings.filterwarnings('ignore')\n"
      ]
    },
    {
      "cell_type": "markdown",
      "metadata": {
        "id": "39TTePO3eqYK"
      },
      "source": [
        "# Task 1: Open the data and prepare the dataset data frame"
      ]
    },
    {
      "cell_type": "code",
      "execution_count": 8,
      "metadata": {
        "id": "eayqUTlSeqYK"
      },
      "outputs": [],
      "source": [
        "deaths_df = pd.read_csv('time_series_covid19_deaths_global.csv')"
      ]
    },
    {
      "cell_type": "markdown",
      "metadata": {
        "id": "UWyreslbeqYL"
      },
      "source": [
        "First, get the data for the daily deaths in all countries in the report"
      ]
    },
    {
      "cell_type": "code",
      "execution_count": 10,
      "metadata": {
        "colab": {
          "base_uri": "https://localhost:8080/",
          "height": 300
        },
        "id": "CEtIrxFJeqYL",
        "outputId": "1bc509ec-3a11-4f35-a3b8-c2bb98f32f22"
      },
      "outputs": [
        {
          "output_type": "execute_result",
          "data": {
            "text/html": [
              "\n",
              "  <div id=\"df-6483cc15-986e-4b11-9db5-a6e2e9046739\">\n",
              "    <div class=\"colab-df-container\">\n",
              "      <div>\n",
              "<style scoped>\n",
              "    .dataframe tbody tr th:only-of-type {\n",
              "        vertical-align: middle;\n",
              "    }\n",
              "\n",
              "    .dataframe tbody tr th {\n",
              "        vertical-align: top;\n",
              "    }\n",
              "\n",
              "    .dataframe thead th {\n",
              "        text-align: right;\n",
              "    }\n",
              "</style>\n",
              "<table border=\"1\" class=\"dataframe\">\n",
              "  <thead>\n",
              "    <tr style=\"text-align: right;\">\n",
              "      <th></th>\n",
              "      <th>1/22/20</th>\n",
              "      <th>1/23/20</th>\n",
              "      <th>1/24/20</th>\n",
              "      <th>1/25/20</th>\n",
              "      <th>1/26/20</th>\n",
              "      <th>1/27/20</th>\n",
              "      <th>1/28/20</th>\n",
              "      <th>1/29/20</th>\n",
              "      <th>1/30/20</th>\n",
              "      <th>1/31/20</th>\n",
              "      <th>2/1/20</th>\n",
              "      <th>2/2/20</th>\n",
              "      <th>2/3/20</th>\n",
              "      <th>2/4/20</th>\n",
              "      <th>2/5/20</th>\n",
              "      <th>2/6/20</th>\n",
              "      <th>2/7/20</th>\n",
              "      <th>2/8/20</th>\n",
              "      <th>2/9/20</th>\n",
              "      <th>2/10/20</th>\n",
              "      <th>2/11/20</th>\n",
              "      <th>2/12/20</th>\n",
              "      <th>2/13/20</th>\n",
              "      <th>2/14/20</th>\n",
              "      <th>2/15/20</th>\n",
              "      <th>2/16/20</th>\n",
              "      <th>2/17/20</th>\n",
              "      <th>2/18/20</th>\n",
              "      <th>2/19/20</th>\n",
              "      <th>2/20/20</th>\n",
              "      <th>2/21/20</th>\n",
              "      <th>2/22/20</th>\n",
              "      <th>2/23/20</th>\n",
              "      <th>2/24/20</th>\n",
              "      <th>2/25/20</th>\n",
              "      <th>2/26/20</th>\n",
              "      <th>2/27/20</th>\n",
              "      <th>2/28/20</th>\n",
              "      <th>2/29/20</th>\n",
              "      <th>3/1/20</th>\n",
              "      <th>...</th>\n",
              "      <th>7/8/20</th>\n",
              "      <th>7/9/20</th>\n",
              "      <th>7/10/20</th>\n",
              "      <th>7/11/20</th>\n",
              "      <th>7/12/20</th>\n",
              "      <th>7/13/20</th>\n",
              "      <th>7/14/20</th>\n",
              "      <th>7/15/20</th>\n",
              "      <th>7/16/20</th>\n",
              "      <th>7/17/20</th>\n",
              "      <th>7/18/20</th>\n",
              "      <th>7/19/20</th>\n",
              "      <th>7/20/20</th>\n",
              "      <th>7/21/20</th>\n",
              "      <th>7/22/20</th>\n",
              "      <th>7/23/20</th>\n",
              "      <th>7/24/20</th>\n",
              "      <th>7/25/20</th>\n",
              "      <th>7/26/20</th>\n",
              "      <th>7/27/20</th>\n",
              "      <th>7/28/20</th>\n",
              "      <th>7/29/20</th>\n",
              "      <th>7/30/20</th>\n",
              "      <th>7/31/20</th>\n",
              "      <th>8/1/20</th>\n",
              "      <th>8/2/20</th>\n",
              "      <th>8/3/20</th>\n",
              "      <th>8/4/20</th>\n",
              "      <th>8/5/20</th>\n",
              "      <th>8/6/20</th>\n",
              "      <th>8/7/20</th>\n",
              "      <th>8/8/20</th>\n",
              "      <th>8/9/20</th>\n",
              "      <th>8/10/20</th>\n",
              "      <th>8/11/20</th>\n",
              "      <th>8/12/20</th>\n",
              "      <th>8/13/20</th>\n",
              "      <th>8/14/20</th>\n",
              "      <th>8/15/20</th>\n",
              "      <th>8/16/20</th>\n",
              "    </tr>\n",
              "  </thead>\n",
              "  <tbody>\n",
              "    <tr>\n",
              "      <th>0</th>\n",
              "      <td>0</td>\n",
              "      <td>0</td>\n",
              "      <td>0</td>\n",
              "      <td>0</td>\n",
              "      <td>0</td>\n",
              "      <td>0</td>\n",
              "      <td>0</td>\n",
              "      <td>0</td>\n",
              "      <td>0</td>\n",
              "      <td>0</td>\n",
              "      <td>0</td>\n",
              "      <td>0</td>\n",
              "      <td>0</td>\n",
              "      <td>0</td>\n",
              "      <td>0</td>\n",
              "      <td>0</td>\n",
              "      <td>0</td>\n",
              "      <td>0</td>\n",
              "      <td>0</td>\n",
              "      <td>0</td>\n",
              "      <td>0</td>\n",
              "      <td>0</td>\n",
              "      <td>0</td>\n",
              "      <td>0</td>\n",
              "      <td>0</td>\n",
              "      <td>0</td>\n",
              "      <td>0</td>\n",
              "      <td>0</td>\n",
              "      <td>0</td>\n",
              "      <td>0</td>\n",
              "      <td>0</td>\n",
              "      <td>0</td>\n",
              "      <td>0</td>\n",
              "      <td>0</td>\n",
              "      <td>0</td>\n",
              "      <td>0</td>\n",
              "      <td>0</td>\n",
              "      <td>0</td>\n",
              "      <td>0</td>\n",
              "      <td>0</td>\n",
              "      <td>...</td>\n",
              "      <td>936</td>\n",
              "      <td>957</td>\n",
              "      <td>971</td>\n",
              "      <td>994</td>\n",
              "      <td>1010</td>\n",
              "      <td>1012</td>\n",
              "      <td>1048</td>\n",
              "      <td>1094</td>\n",
              "      <td>1113</td>\n",
              "      <td>1147</td>\n",
              "      <td>1164</td>\n",
              "      <td>1181</td>\n",
              "      <td>1185</td>\n",
              "      <td>1186</td>\n",
              "      <td>1190</td>\n",
              "      <td>1211</td>\n",
              "      <td>1225</td>\n",
              "      <td>1248</td>\n",
              "      <td>1259</td>\n",
              "      <td>1269</td>\n",
              "      <td>1270</td>\n",
              "      <td>1271</td>\n",
              "      <td>1271</td>\n",
              "      <td>1272</td>\n",
              "      <td>1283</td>\n",
              "      <td>1284</td>\n",
              "      <td>1288</td>\n",
              "      <td>1288</td>\n",
              "      <td>1294</td>\n",
              "      <td>1298</td>\n",
              "      <td>1307</td>\n",
              "      <td>1312</td>\n",
              "      <td>1312</td>\n",
              "      <td>1328</td>\n",
              "      <td>1344</td>\n",
              "      <td>1354</td>\n",
              "      <td>1363</td>\n",
              "      <td>1363</td>\n",
              "      <td>1370</td>\n",
              "      <td>1375</td>\n",
              "    </tr>\n",
              "    <tr>\n",
              "      <th>1</th>\n",
              "      <td>0</td>\n",
              "      <td>0</td>\n",
              "      <td>0</td>\n",
              "      <td>0</td>\n",
              "      <td>0</td>\n",
              "      <td>0</td>\n",
              "      <td>0</td>\n",
              "      <td>0</td>\n",
              "      <td>0</td>\n",
              "      <td>0</td>\n",
              "      <td>0</td>\n",
              "      <td>0</td>\n",
              "      <td>0</td>\n",
              "      <td>0</td>\n",
              "      <td>0</td>\n",
              "      <td>0</td>\n",
              "      <td>0</td>\n",
              "      <td>0</td>\n",
              "      <td>0</td>\n",
              "      <td>0</td>\n",
              "      <td>0</td>\n",
              "      <td>0</td>\n",
              "      <td>0</td>\n",
              "      <td>0</td>\n",
              "      <td>0</td>\n",
              "      <td>0</td>\n",
              "      <td>0</td>\n",
              "      <td>0</td>\n",
              "      <td>0</td>\n",
              "      <td>0</td>\n",
              "      <td>0</td>\n",
              "      <td>0</td>\n",
              "      <td>0</td>\n",
              "      <td>0</td>\n",
              "      <td>0</td>\n",
              "      <td>0</td>\n",
              "      <td>0</td>\n",
              "      <td>0</td>\n",
              "      <td>0</td>\n",
              "      <td>0</td>\n",
              "      <td>...</td>\n",
              "      <td>83</td>\n",
              "      <td>83</td>\n",
              "      <td>85</td>\n",
              "      <td>89</td>\n",
              "      <td>93</td>\n",
              "      <td>95</td>\n",
              "      <td>97</td>\n",
              "      <td>101</td>\n",
              "      <td>104</td>\n",
              "      <td>107</td>\n",
              "      <td>111</td>\n",
              "      <td>112</td>\n",
              "      <td>113</td>\n",
              "      <td>117</td>\n",
              "      <td>120</td>\n",
              "      <td>123</td>\n",
              "      <td>128</td>\n",
              "      <td>134</td>\n",
              "      <td>138</td>\n",
              "      <td>144</td>\n",
              "      <td>148</td>\n",
              "      <td>150</td>\n",
              "      <td>154</td>\n",
              "      <td>157</td>\n",
              "      <td>161</td>\n",
              "      <td>166</td>\n",
              "      <td>172</td>\n",
              "      <td>176</td>\n",
              "      <td>182</td>\n",
              "      <td>188</td>\n",
              "      <td>189</td>\n",
              "      <td>193</td>\n",
              "      <td>199</td>\n",
              "      <td>200</td>\n",
              "      <td>205</td>\n",
              "      <td>208</td>\n",
              "      <td>213</td>\n",
              "      <td>219</td>\n",
              "      <td>225</td>\n",
              "      <td>228</td>\n",
              "    </tr>\n",
              "    <tr>\n",
              "      <th>2</th>\n",
              "      <td>0</td>\n",
              "      <td>0</td>\n",
              "      <td>0</td>\n",
              "      <td>0</td>\n",
              "      <td>0</td>\n",
              "      <td>0</td>\n",
              "      <td>0</td>\n",
              "      <td>0</td>\n",
              "      <td>0</td>\n",
              "      <td>0</td>\n",
              "      <td>0</td>\n",
              "      <td>0</td>\n",
              "      <td>0</td>\n",
              "      <td>0</td>\n",
              "      <td>0</td>\n",
              "      <td>0</td>\n",
              "      <td>0</td>\n",
              "      <td>0</td>\n",
              "      <td>0</td>\n",
              "      <td>0</td>\n",
              "      <td>0</td>\n",
              "      <td>0</td>\n",
              "      <td>0</td>\n",
              "      <td>0</td>\n",
              "      <td>0</td>\n",
              "      <td>0</td>\n",
              "      <td>0</td>\n",
              "      <td>0</td>\n",
              "      <td>0</td>\n",
              "      <td>0</td>\n",
              "      <td>0</td>\n",
              "      <td>0</td>\n",
              "      <td>0</td>\n",
              "      <td>0</td>\n",
              "      <td>0</td>\n",
              "      <td>0</td>\n",
              "      <td>0</td>\n",
              "      <td>0</td>\n",
              "      <td>0</td>\n",
              "      <td>0</td>\n",
              "      <td>...</td>\n",
              "      <td>978</td>\n",
              "      <td>988</td>\n",
              "      <td>996</td>\n",
              "      <td>1004</td>\n",
              "      <td>1011</td>\n",
              "      <td>1018</td>\n",
              "      <td>1028</td>\n",
              "      <td>1040</td>\n",
              "      <td>1052</td>\n",
              "      <td>1057</td>\n",
              "      <td>1068</td>\n",
              "      <td>1078</td>\n",
              "      <td>1087</td>\n",
              "      <td>1100</td>\n",
              "      <td>1111</td>\n",
              "      <td>1124</td>\n",
              "      <td>1136</td>\n",
              "      <td>1146</td>\n",
              "      <td>1155</td>\n",
              "      <td>1163</td>\n",
              "      <td>1174</td>\n",
              "      <td>1186</td>\n",
              "      <td>1200</td>\n",
              "      <td>1210</td>\n",
              "      <td>1223</td>\n",
              "      <td>1231</td>\n",
              "      <td>1239</td>\n",
              "      <td>1248</td>\n",
              "      <td>1261</td>\n",
              "      <td>1273</td>\n",
              "      <td>1282</td>\n",
              "      <td>1293</td>\n",
              "      <td>1302</td>\n",
              "      <td>1312</td>\n",
              "      <td>1322</td>\n",
              "      <td>1333</td>\n",
              "      <td>1341</td>\n",
              "      <td>1351</td>\n",
              "      <td>1360</td>\n",
              "      <td>1370</td>\n",
              "    </tr>\n",
              "    <tr>\n",
              "      <th>3</th>\n",
              "      <td>0</td>\n",
              "      <td>0</td>\n",
              "      <td>0</td>\n",
              "      <td>0</td>\n",
              "      <td>0</td>\n",
              "      <td>0</td>\n",
              "      <td>0</td>\n",
              "      <td>0</td>\n",
              "      <td>0</td>\n",
              "      <td>0</td>\n",
              "      <td>0</td>\n",
              "      <td>0</td>\n",
              "      <td>0</td>\n",
              "      <td>0</td>\n",
              "      <td>0</td>\n",
              "      <td>0</td>\n",
              "      <td>0</td>\n",
              "      <td>0</td>\n",
              "      <td>0</td>\n",
              "      <td>0</td>\n",
              "      <td>0</td>\n",
              "      <td>0</td>\n",
              "      <td>0</td>\n",
              "      <td>0</td>\n",
              "      <td>0</td>\n",
              "      <td>0</td>\n",
              "      <td>0</td>\n",
              "      <td>0</td>\n",
              "      <td>0</td>\n",
              "      <td>0</td>\n",
              "      <td>0</td>\n",
              "      <td>0</td>\n",
              "      <td>0</td>\n",
              "      <td>0</td>\n",
              "      <td>0</td>\n",
              "      <td>0</td>\n",
              "      <td>0</td>\n",
              "      <td>0</td>\n",
              "      <td>0</td>\n",
              "      <td>0</td>\n",
              "      <td>...</td>\n",
              "      <td>52</td>\n",
              "      <td>52</td>\n",
              "      <td>52</td>\n",
              "      <td>52</td>\n",
              "      <td>52</td>\n",
              "      <td>52</td>\n",
              "      <td>52</td>\n",
              "      <td>52</td>\n",
              "      <td>52</td>\n",
              "      <td>52</td>\n",
              "      <td>52</td>\n",
              "      <td>52</td>\n",
              "      <td>52</td>\n",
              "      <td>52</td>\n",
              "      <td>52</td>\n",
              "      <td>52</td>\n",
              "      <td>52</td>\n",
              "      <td>52</td>\n",
              "      <td>52</td>\n",
              "      <td>52</td>\n",
              "      <td>52</td>\n",
              "      <td>52</td>\n",
              "      <td>52</td>\n",
              "      <td>52</td>\n",
              "      <td>52</td>\n",
              "      <td>52</td>\n",
              "      <td>52</td>\n",
              "      <td>52</td>\n",
              "      <td>52</td>\n",
              "      <td>52</td>\n",
              "      <td>52</td>\n",
              "      <td>52</td>\n",
              "      <td>52</td>\n",
              "      <td>52</td>\n",
              "      <td>52</td>\n",
              "      <td>53</td>\n",
              "      <td>53</td>\n",
              "      <td>53</td>\n",
              "      <td>53</td>\n",
              "      <td>53</td>\n",
              "    </tr>\n",
              "    <tr>\n",
              "      <th>4</th>\n",
              "      <td>0</td>\n",
              "      <td>0</td>\n",
              "      <td>0</td>\n",
              "      <td>0</td>\n",
              "      <td>0</td>\n",
              "      <td>0</td>\n",
              "      <td>0</td>\n",
              "      <td>0</td>\n",
              "      <td>0</td>\n",
              "      <td>0</td>\n",
              "      <td>0</td>\n",
              "      <td>0</td>\n",
              "      <td>0</td>\n",
              "      <td>0</td>\n",
              "      <td>0</td>\n",
              "      <td>0</td>\n",
              "      <td>0</td>\n",
              "      <td>0</td>\n",
              "      <td>0</td>\n",
              "      <td>0</td>\n",
              "      <td>0</td>\n",
              "      <td>0</td>\n",
              "      <td>0</td>\n",
              "      <td>0</td>\n",
              "      <td>0</td>\n",
              "      <td>0</td>\n",
              "      <td>0</td>\n",
              "      <td>0</td>\n",
              "      <td>0</td>\n",
              "      <td>0</td>\n",
              "      <td>0</td>\n",
              "      <td>0</td>\n",
              "      <td>0</td>\n",
              "      <td>0</td>\n",
              "      <td>0</td>\n",
              "      <td>0</td>\n",
              "      <td>0</td>\n",
              "      <td>0</td>\n",
              "      <td>0</td>\n",
              "      <td>0</td>\n",
              "      <td>...</td>\n",
              "      <td>21</td>\n",
              "      <td>22</td>\n",
              "      <td>23</td>\n",
              "      <td>23</td>\n",
              "      <td>26</td>\n",
              "      <td>26</td>\n",
              "      <td>26</td>\n",
              "      <td>27</td>\n",
              "      <td>28</td>\n",
              "      <td>29</td>\n",
              "      <td>29</td>\n",
              "      <td>29</td>\n",
              "      <td>29</td>\n",
              "      <td>30</td>\n",
              "      <td>33</td>\n",
              "      <td>33</td>\n",
              "      <td>35</td>\n",
              "      <td>39</td>\n",
              "      <td>40</td>\n",
              "      <td>41</td>\n",
              "      <td>47</td>\n",
              "      <td>48</td>\n",
              "      <td>51</td>\n",
              "      <td>52</td>\n",
              "      <td>54</td>\n",
              "      <td>55</td>\n",
              "      <td>58</td>\n",
              "      <td>59</td>\n",
              "      <td>62</td>\n",
              "      <td>64</td>\n",
              "      <td>67</td>\n",
              "      <td>70</td>\n",
              "      <td>75</td>\n",
              "      <td>78</td>\n",
              "      <td>80</td>\n",
              "      <td>80</td>\n",
              "      <td>80</td>\n",
              "      <td>86</td>\n",
              "      <td>86</td>\n",
              "      <td>88</td>\n",
              "    </tr>\n",
              "  </tbody>\n",
              "</table>\n",
              "<p>5 rows × 208 columns</p>\n",
              "</div>\n",
              "      <button class=\"colab-df-convert\" onclick=\"convertToInteractive('df-6483cc15-986e-4b11-9db5-a6e2e9046739')\"\n",
              "              title=\"Convert this dataframe to an interactive table.\"\n",
              "              style=\"display:none;\">\n",
              "        \n",
              "  <svg xmlns=\"http://www.w3.org/2000/svg\" height=\"24px\"viewBox=\"0 0 24 24\"\n",
              "       width=\"24px\">\n",
              "    <path d=\"M0 0h24v24H0V0z\" fill=\"none\"/>\n",
              "    <path d=\"M18.56 5.44l.94 2.06.94-2.06 2.06-.94-2.06-.94-.94-2.06-.94 2.06-2.06.94zm-11 1L8.5 8.5l.94-2.06 2.06-.94-2.06-.94L8.5 2.5l-.94 2.06-2.06.94zm10 10l.94 2.06.94-2.06 2.06-.94-2.06-.94-.94-2.06-.94 2.06-2.06.94z\"/><path d=\"M17.41 7.96l-1.37-1.37c-.4-.4-.92-.59-1.43-.59-.52 0-1.04.2-1.43.59L10.3 9.45l-7.72 7.72c-.78.78-.78 2.05 0 2.83L4 21.41c.39.39.9.59 1.41.59.51 0 1.02-.2 1.41-.59l7.78-7.78 2.81-2.81c.8-.78.8-2.07 0-2.86zM5.41 20L4 18.59l7.72-7.72 1.47 1.35L5.41 20z\"/>\n",
              "  </svg>\n",
              "      </button>\n",
              "      \n",
              "  <style>\n",
              "    .colab-df-container {\n",
              "      display:flex;\n",
              "      flex-wrap:wrap;\n",
              "      gap: 12px;\n",
              "    }\n",
              "\n",
              "    .colab-df-convert {\n",
              "      background-color: #E8F0FE;\n",
              "      border: none;\n",
              "      border-radius: 50%;\n",
              "      cursor: pointer;\n",
              "      display: none;\n",
              "      fill: #1967D2;\n",
              "      height: 32px;\n",
              "      padding: 0 0 0 0;\n",
              "      width: 32px;\n",
              "    }\n",
              "\n",
              "    .colab-df-convert:hover {\n",
              "      background-color: #E2EBFA;\n",
              "      box-shadow: 0px 1px 2px rgba(60, 64, 67, 0.3), 0px 1px 3px 1px rgba(60, 64, 67, 0.15);\n",
              "      fill: #174EA6;\n",
              "    }\n",
              "\n",
              "    [theme=dark] .colab-df-convert {\n",
              "      background-color: #3B4455;\n",
              "      fill: #D2E3FC;\n",
              "    }\n",
              "\n",
              "    [theme=dark] .colab-df-convert:hover {\n",
              "      background-color: #434B5C;\n",
              "      box-shadow: 0px 1px 3px 1px rgba(0, 0, 0, 0.15);\n",
              "      filter: drop-shadow(0px 1px 2px rgba(0, 0, 0, 0.3));\n",
              "      fill: #FFFFFF;\n",
              "    }\n",
              "  </style>\n",
              "\n",
              "      <script>\n",
              "        const buttonEl =\n",
              "          document.querySelector('#df-6483cc15-986e-4b11-9db5-a6e2e9046739 button.colab-df-convert');\n",
              "        buttonEl.style.display =\n",
              "          google.colab.kernel.accessAllowed ? 'block' : 'none';\n",
              "\n",
              "        async function convertToInteractive(key) {\n",
              "          const element = document.querySelector('#df-6483cc15-986e-4b11-9db5-a6e2e9046739');\n",
              "          const dataTable =\n",
              "            await google.colab.kernel.invokeFunction('convertToInteractive',\n",
              "                                                     [key], {});\n",
              "          if (!dataTable) return;\n",
              "\n",
              "          const docLinkHtml = 'Like what you see? Visit the ' +\n",
              "            '<a target=\"_blank\" href=https://colab.research.google.com/notebooks/data_table.ipynb>data table notebook</a>'\n",
              "            + ' to learn more about interactive tables.';\n",
              "          element.innerHTML = '';\n",
              "          dataTable['output_type'] = 'display_data';\n",
              "          await google.colab.output.renderOutput(dataTable, element);\n",
              "          const docLink = document.createElement('div');\n",
              "          docLink.innerHTML = docLinkHtml;\n",
              "          element.appendChild(docLink);\n",
              "        }\n",
              "      </script>\n",
              "    </div>\n",
              "  </div>\n",
              "  "
            ],
            "text/plain": [
              "   1/22/20  1/23/20  1/24/20  1/25/20  ...  8/13/20  8/14/20  8/15/20  8/16/20\n",
              "0        0        0        0        0  ...     1363     1363     1370     1375\n",
              "1        0        0        0        0  ...      213      219      225      228\n",
              "2        0        0        0        0  ...     1341     1351     1360     1370\n",
              "3        0        0        0        0  ...       53       53       53       53\n",
              "4        0        0        0        0  ...       80       86       86       88\n",
              "\n",
              "[5 rows x 208 columns]"
            ]
          },
          "metadata": {},
          "execution_count": 10
        }
      ],
      "source": [
        "d = deaths_df.loc[:, '1/22/20':]\n",
        "d.head()"
      ]
    },
    {
      "cell_type": "markdown",
      "metadata": {
        "id": "3Wdk1tfjeqYM"
      },
      "source": [
        "Transpose the data frame"
      ]
    },
    {
      "cell_type": "code",
      "execution_count": 11,
      "metadata": {
        "id": "YG8shw8PeqYN"
      },
      "outputs": [],
      "source": [
        "d = d.transpose()\n",
        "d.head()"
      ]
    },
    {
      "cell_type": "markdown",
      "metadata": {
        "id": "PiOJb8nEeqYO"
      },
      "source": [
        "Then sum row-wise"
      ]
    },
    {
      "cell_type": "code",
      "execution_count": 13,
      "metadata": {
        "colab": {
          "base_uri": "https://localhost:8080/"
        },
        "id": "x771IX9SeqYO",
        "outputId": "91beca82-7240-4e08-8265-e8d9761b4e91"
      },
      "outputs": [
        {
          "output_type": "execute_result",
          "data": {
            "text/plain": [
              "1/22/20    17\n",
              "1/23/20    18\n",
              "1/24/20    26\n",
              "1/25/20    42\n",
              "1/26/20    56\n",
              "dtype: int64"
            ]
          },
          "metadata": {},
          "execution_count": 13
        }
      ],
      "source": [
        "d = d.sum(axis=1)\n",
        "d.head()"
      ]
    },
    {
      "cell_type": "markdown",
      "metadata": {
        "id": "X7akltQueqYP"
      },
      "source": [
        "We only need the numeric values here, so we convert `d` to a list"
      ]
    },
    {
      "cell_type": "code",
      "execution_count": null,
      "metadata": {
        "id": "erE3QV-oeqYP"
      },
      "outputs": [],
      "source": [
        "d = d.to_list()\n",
        "d.head()"
      ]
    },
    {
      "cell_type": "markdown",
      "metadata": {
        "id": "ucpAKaQReqYP"
      },
      "source": [
        "Create a new data frame with two columns, which will be our dataset:"
      ]
    },
    {
      "cell_type": "code",
      "execution_count": 15,
      "metadata": {
        "id": "MVTuCSYbeqYP"
      },
      "outputs": [],
      "source": [
        "dataset = pd.DataFrame(columns=['ds', 'y'])\n",
        "dataset.head()"
      ]
    },
    {
      "cell_type": "markdown",
      "metadata": {
        "id": "QP1Ru7LyeqYQ"
      },
      "source": [
        "Get the dates from the columns in `deaths_df` data frame, starting from the fifth column. They will be obtained in string format."
      ]
    },
    {
      "cell_type": "code",
      "execution_count": 17,
      "metadata": {
        "id": "vh0qyq46eqYQ"
      },
      "outputs": [],
      "source": [
        "dates = list(deaths_df.columns[4:])"
      ]
    },
    {
      "cell_type": "markdown",
      "metadata": {
        "id": "aEk2gq4IeqYQ"
      },
      "source": [
        "Convert the string dates into the datetime format, so that we can perform datetime operations on them"
      ]
    },
    {
      "cell_type": "code",
      "execution_count": 18,
      "metadata": {
        "id": "13YOxUtoeqYR"
      },
      "outputs": [],
      "source": [
        "dates = list(pd.to_datetime(dates))"
      ]
    },
    {
      "cell_type": "markdown",
      "metadata": {
        "id": "EweH0NFMeqYR"
      },
      "source": [
        "Now, assign the dates and deaths data to the columns in the new dataframe:"
      ]
    },
    {
      "cell_type": "code",
      "execution_count": 19,
      "metadata": {
        "id": "bphiUeCZeqYS"
      },
      "outputs": [],
      "source": [
        "dataset['ds'] = dates\n",
        "dataset['y'] = d"
      ]
    },
    {
      "cell_type": "markdown",
      "metadata": {
        "id": "s6kFUf_EeqYS"
      },
      "source": [
        "We will need to have only 1 data column, y, with the index being ds"
      ]
    },
    {
      "cell_type": "code",
      "execution_count": 20,
      "metadata": {
        "id": "OQ2LT2bLeqYT"
      },
      "outputs": [],
      "source": [
        "dataset=dataset.set_index('ds')"
      ]
    },
    {
      "cell_type": "markdown",
      "metadata": {
        "id": "xUJCvl1teqYT"
      },
      "source": [
        "Let's plot the daily number of deaths\n"
      ]
    },
    {
      "cell_type": "code",
      "execution_count": 21,
      "metadata": {
        "colab": {
          "base_uri": "https://localhost:8080/",
          "height": 592
        },
        "id": "Q4H36R5TeqYU",
        "outputId": "3e058e7b-b7f2-4a8a-8911-579e2acf783d"
      },
      "outputs": [
        {
          "output_type": "display_data",
          "data": {
            "image/png": "[encoded data removed]",
            "text/plain": [
              "<Figure size 720x720 with 1 Axes>"
            ]
          },
          "metadata": {
            "needs_background": "light"
          }
        }
      ],
      "source": [
        "plt.figure(figsize=(10, 10))\n",
        "plt.plot(dataset)\n",
        "plt.savefig('Cummulative daily deaths', bbox_inches='tight', transparent=False)"
      ]
    },
    {
      "cell_type": "markdown",
      "metadata": {
        "id": "2mfkMWAFeqYV"
      },
      "source": [
        "and let's see how the daily increase looks like. To do this, we will use the `diff` method from the Dataframe object."
      ]
    },
    {
      "cell_type": "code",
      "execution_count": 22,
      "metadata": {
        "colab": {
          "base_uri": "https://localhost:8080/",
          "height": 592
        },
        "id": "-iTibYLdeqYW",
        "outputId": "45eee28f-5bf2-458e-d84b-163dc751b072"
      },
      "outputs": [
        {
          "output_type": "display_data",
          "data": {
            "image/png": "[encoded data removed]",
            "text/plain": [
              "<Figure size 720x720 with 1 Axes>"
            ]
          },
          "metadata": {
            "needs_background": "light"
          }
        }
      ],
      "source": [
        "# this gives you the difference between daily deaths and past deaths. Since we are interested in daily reported deaths.\n",
        "plt.figure(figsize=(10, 10))\n",
        "plt.plot(dataset.diff())\n",
        "plt.savefig('Daily deaths', bbox_inches='tight', transparent=False)"
      ]
    },
    {
      "cell_type": "markdown",
      "metadata": {
        "id": "13p4317VeqYW"
      },
      "source": [
        "In this project, we are going to analyze the daily reported deaths"
      ]
    },
    {
      "cell_type": "code",
      "execution_count": 23,
      "metadata": {
        "id": "FoGnVRzQeqYY"
      },
      "outputs": [],
      "source": [
        "dataset = dataset.diff()"
      ]
    },
    {
      "cell_type": "code",
      "source": [
        "dataset"
      ],
      "metadata": {
        "colab": {
          "base_uri": "https://localhost:8080/",
          "height": 455
        },
        "id": "wQvo4hlihdOO",
        "outputId": "4683de08-eb85-40e4-81d5-c64b84145bbc"
      },
      "execution_count": 24,
      "outputs": [
        {
          "output_type": "execute_result",
          "data": {
            "text/html": [
              "\n",
              "  <div id=\"df-4e1f7a0b-cd36-4623-8a64-7dabdf542deb\">\n",
              "    <div class=\"colab-df-container\">\n",
              "      <div>\n",
              "<style scoped>\n",
              "    .dataframe tbody tr th:only-of-type {\n",
              "        vertical-align: middle;\n",
              "    }\n",
              "\n",
              "    .dataframe tbody tr th {\n",
              "        vertical-align: top;\n",
              "    }\n",
              "\n",
              "    .dataframe thead th {\n",
              "        text-align: right;\n",
              "    }\n",
              "</style>\n",
              "<table border=\"1\" class=\"dataframe\">\n",
              "  <thead>\n",
              "    <tr style=\"text-align: right;\">\n",
              "      <th></th>\n",
              "      <th>y</th>\n",
              "    </tr>\n",
              "    <tr>\n",
              "      <th>ds</th>\n",
              "      <th></th>\n",
              "    </tr>\n",
              "  </thead>\n",
              "  <tbody>\n",
              "    <tr>\n",
              "      <th>2020-01-22</th>\n",
              "      <td>NaN</td>\n",
              "    </tr>\n",
              "    <tr>\n",
              "      <th>2020-01-23</th>\n",
              "      <td>1.0</td>\n",
              "    </tr>\n",
              "    <tr>\n",
              "      <th>2020-01-24</th>\n",
              "      <td>8.0</td>\n",
              "    </tr>\n",
              "    <tr>\n",
              "      <th>2020-01-25</th>\n",
              "      <td>16.0</td>\n",
              "    </tr>\n",
              "    <tr>\n",
              "      <th>2020-01-26</th>\n",
              "      <td>14.0</td>\n",
              "    </tr>\n",
              "    <tr>\n",
              "      <th>...</th>\n",
              "      <td>...</td>\n",
              "    </tr>\n",
              "    <tr>\n",
              "      <th>2020-08-12</th>\n",
              "      <td>6609.0</td>\n",
              "    </tr>\n",
              "    <tr>\n",
              "      <th>2020-08-13</th>\n",
              "      <td>6241.0</td>\n",
              "    </tr>\n",
              "    <tr>\n",
              "      <th>2020-08-14</th>\n",
              "      <td>10144.0</td>\n",
              "    </tr>\n",
              "    <tr>\n",
              "      <th>2020-08-15</th>\n",
              "      <td>5344.0</td>\n",
              "    </tr>\n",
              "    <tr>\n",
              "      <th>2020-08-16</th>\n",
              "      <td>4186.0</td>\n",
              "    </tr>\n",
              "  </tbody>\n",
              "</table>\n",
              "<p>208 rows × 1 columns</p>\n",
              "</div>\n",
              "      <button class=\"colab-df-convert\" onclick=\"convertToInteractive('df-4e1f7a0b-cd36-4623-8a64-7dabdf542deb')\"\n",
              "              title=\"Convert this dataframe to an interactive table.\"\n",
              "              style=\"display:none;\">\n",
              "        \n",
              "  <svg xmlns=\"http://www.w3.org/2000/svg\" height=\"24px\"viewBox=\"0 0 24 24\"\n",
              "       width=\"24px\">\n",
              "    <path d=\"M0 0h24v24H0V0z\" fill=\"none\"/>\n",
              "    <path d=\"M18.56 5.44l.94 2.06.94-2.06 2.06-.94-2.06-.94-.94-2.06-.94 2.06-2.06.94zm-11 1L8.5 8.5l.94-2.06 2.06-.94-2.06-.94L8.5 2.5l-.94 2.06-2.06.94zm10 10l.94 2.06.94-2.06 2.06-.94-2.06-.94-.94-2.06-.94 2.06-2.06.94z\"/><path d=\"M17.41 7.96l-1.37-1.37c-.4-.4-.92-.59-1.43-.59-.52 0-1.04.2-1.43.59L10.3 9.45l-7.72 7.72c-.78.78-.78 2.05 0 2.83L4 21.41c.39.39.9.59 1.41.59.51 0 1.02-.2 1.41-.59l7.78-7.78 2.81-2.81c.8-.78.8-2.07 0-2.86zM5.41 20L4 18.59l7.72-7.72 1.47 1.35L5.41 20z\"/>\n",
              "  </svg>\n",
              "      </button>\n",
              "      \n",
              "  <style>\n",
              "    .colab-df-container {\n",
              "      display:flex;\n",
              "      flex-wrap:wrap;\n",
              "      gap: 12px;\n",
              "    }\n",
              "\n",
              "    .colab-df-convert {\n",
              "      background-color: #E8F0FE;\n",
              "      border: none;\n",
              "      border-radius: 50%;\n",
              "      cursor: pointer;\n",
              "      display: none;\n",
              "      fill: #1967D2;\n",
              "      height: 32px;\n",
              "      padding: 0 0 0 0;\n",
              "      width: 32px;\n",
              "    }\n",
              "\n",
              "    .colab-df-convert:hover {\n",
              "      background-color: #E2EBFA;\n",
              "      box-shadow: 0px 1px 2px rgba(60, 64, 67, 0.3), 0px 1px 3px 1px rgba(60, 64, 67, 0.15);\n",
              "      fill: #174EA6;\n",
              "    }\n",
              "\n",
              "    [theme=dark] .colab-df-convert {\n",
              "      background-color: #3B4455;\n",
              "      fill: #D2E3FC;\n",
              "    }\n",
              "\n",
              "    [theme=dark] .colab-df-convert:hover {\n",
              "      background-color: #434B5C;\n",
              "      box-shadow: 0px 1px 3px 1px rgba(0, 0, 0, 0.15);\n",
              "      filter: drop-shadow(0px 1px 2px rgba(0, 0, 0, 0.3));\n",
              "      fill: #FFFFFF;\n",
              "    }\n",
              "  </style>\n",
              "\n",
              "      <script>\n",
              "        const buttonEl =\n",
              "          document.querySelector('#df-4e1f7a0b-cd36-4623-8a64-7dabdf542deb button.colab-df-convert');\n",
              "        buttonEl.style.display =\n",
              "          google.colab.kernel.accessAllowed ? 'block' : 'none';\n",
              "\n",
              "        async function convertToInteractive(key) {\n",
              "          const element = document.querySelector('#df-4e1f7a0b-cd36-4623-8a64-7dabdf542deb');\n",
              "          const dataTable =\n",
              "            await google.colab.kernel.invokeFunction('convertToInteractive',\n",
              "                                                     [key], {});\n",
              "          if (!dataTable) return;\n",
              "\n",
              "          const docLinkHtml = 'Like what you see? Visit the ' +\n",
              "            '<a target=\"_blank\" href=https://colab.research.google.com/notebooks/data_table.ipynb>data table notebook</a>'\n",
              "            + ' to learn more about interactive tables.';\n",
              "          element.innerHTML = '';\n",
              "          dataTable['output_type'] = 'display_data';\n",
              "          await google.colab.output.renderOutput(dataTable, element);\n",
              "          const docLink = document.createElement('div');\n",
              "          docLink.innerHTML = docLinkHtml;\n",
              "          element.appendChild(docLink);\n",
              "        }\n",
              "      </script>\n",
              "    </div>\n",
              "  </div>\n",
              "  "
            ],
            "text/plain": [
              "                  y\n",
              "ds                 \n",
              "2020-01-22      NaN\n",
              "2020-01-23      1.0\n",
              "2020-01-24      8.0\n",
              "2020-01-25     16.0\n",
              "2020-01-26     14.0\n",
              "...             ...\n",
              "2020-08-12   6609.0\n",
              "2020-08-13   6241.0\n",
              "2020-08-14  10144.0\n",
              "2020-08-15   5344.0\n",
              "2020-08-16   4186.0\n",
              "\n",
              "[208 rows x 1 columns]"
            ]
          },
          "metadata": {},
          "execution_count": 24
        }
      ]
    },
    {
      "cell_type": "markdown",
      "metadata": {
        "id": "HwYDStb7eqYY"
      },
      "source": [
        "We need to remove the first data point here, which has a NaN value"
      ]
    },
    {
      "cell_type": "code",
      "execution_count": 25,
      "metadata": {
        "colab": {
          "base_uri": "https://localhost:8080/",
          "height": 238
        },
        "id": "VItNTc0heqYZ",
        "outputId": "bbe66158-302e-45eb-adcf-17ee46f18ff3"
      },
      "outputs": [
        {
          "output_type": "execute_result",
          "data": {
            "text/html": [
              "\n",
              "  <div id=\"df-98c1dd1e-fc63-40f3-864a-41ab2e7ba554\">\n",
              "    <div class=\"colab-df-container\">\n",
              "      <div>\n",
              "<style scoped>\n",
              "    .dataframe tbody tr th:only-of-type {\n",
              "        vertical-align: middle;\n",
              "    }\n",
              "\n",
              "    .dataframe tbody tr th {\n",
              "        vertical-align: top;\n",
              "    }\n",
              "\n",
              "    .dataframe thead th {\n",
              "        text-align: right;\n",
              "    }\n",
              "</style>\n",
              "<table border=\"1\" class=\"dataframe\">\n",
              "  <thead>\n",
              "    <tr style=\"text-align: right;\">\n",
              "      <th></th>\n",
              "      <th>y</th>\n",
              "    </tr>\n",
              "    <tr>\n",
              "      <th>ds</th>\n",
              "      <th></th>\n",
              "    </tr>\n",
              "  </thead>\n",
              "  <tbody>\n",
              "    <tr>\n",
              "      <th>2020-01-23</th>\n",
              "      <td>1.0</td>\n",
              "    </tr>\n",
              "    <tr>\n",
              "      <th>2020-01-24</th>\n",
              "      <td>8.0</td>\n",
              "    </tr>\n",
              "    <tr>\n",
              "      <th>2020-01-25</th>\n",
              "      <td>16.0</td>\n",
              "    </tr>\n",
              "    <tr>\n",
              "      <th>2020-01-26</th>\n",
              "      <td>14.0</td>\n",
              "    </tr>\n",
              "    <tr>\n",
              "      <th>2020-01-27</th>\n",
              "      <td>26.0</td>\n",
              "    </tr>\n",
              "  </tbody>\n",
              "</table>\n",
              "</div>\n",
              "      <button class=\"colab-df-convert\" onclick=\"convertToInteractive('df-98c1dd1e-fc63-40f3-864a-41ab2e7ba554')\"\n",
              "              title=\"Convert this dataframe to an interactive table.\"\n",
              "              style=\"display:none;\">\n",
              "        \n",
              "  <svg xmlns=\"http://www.w3.org/2000/svg\" height=\"24px\"viewBox=\"0 0 24 24\"\n",
              "       width=\"24px\">\n",
              "    <path d=\"M0 0h24v24H0V0z\" fill=\"none\"/>\n",
              "    <path d=\"M18.56 5.44l.94 2.06.94-2.06 2.06-.94-2.06-.94-.94-2.06-.94 2.06-2.06.94zm-11 1L8.5 8.5l.94-2.06 2.06-.94-2.06-.94L8.5 2.5l-.94 2.06-2.06.94zm10 10l.94 2.06.94-2.06 2.06-.94-2.06-.94-.94-2.06-.94 2.06-2.06.94z\"/><path d=\"M17.41 7.96l-1.37-1.37c-.4-.4-.92-.59-1.43-.59-.52 0-1.04.2-1.43.59L10.3 9.45l-7.72 7.72c-.78.78-.78 2.05 0 2.83L4 21.41c.39.39.9.59 1.41.59.51 0 1.02-.2 1.41-.59l7.78-7.78 2.81-2.81c.8-.78.8-2.07 0-2.86zM5.41 20L4 18.59l7.72-7.72 1.47 1.35L5.41 20z\"/>\n",
              "  </svg>\n",
              "      </button>\n",
              "      \n",
              "  <style>\n",
              "    .colab-df-container {\n",
              "      display:flex;\n",
              "      flex-wrap:wrap;\n",
              "      gap: 12px;\n",
              "    }\n",
              "\n",
              "    .colab-df-convert {\n",
              "      background-color: #E8F0FE;\n",
              "      border: none;\n",
              "      border-radius: 50%;\n",
              "      cursor: pointer;\n",
              "      display: none;\n",
              "      fill: #1967D2;\n",
              "      height: 32px;\n",
              "      padding: 0 0 0 0;\n",
              "      width: 32px;\n",
              "    }\n",
              "\n",
              "    .colab-df-convert:hover {\n",
              "      background-color: #E2EBFA;\n",
              "      box-shadow: 0px 1px 2px rgba(60, 64, 67, 0.3), 0px 1px 3px 1px rgba(60, 64, 67, 0.15);\n",
              "      fill: #174EA6;\n",
              "    }\n",
              "\n",
              "    [theme=dark] .colab-df-convert {\n",
              "      background-color: #3B4455;\n",
              "      fill: #D2E3FC;\n",
              "    }\n",
              "\n",
              "    [theme=dark] .colab-df-convert:hover {\n",
              "      background-color: #434B5C;\n",
              "      box-shadow: 0px 1px 3px 1px rgba(0, 0, 0, 0.15);\n",
              "      filter: drop-shadow(0px 1px 2px rgba(0, 0, 0, 0.3));\n",
              "      fill: #FFFFFF;\n",
              "    }\n",
              "  </style>\n",
              "\n",
              "      <script>\n",
              "        const buttonEl =\n",
              "          document.querySelector('#df-98c1dd1e-fc63-40f3-864a-41ab2e7ba554 button.colab-df-convert');\n",
              "        buttonEl.style.display =\n",
              "          google.colab.kernel.accessAllowed ? 'block' : 'none';\n",
              "\n",
              "        async function convertToInteractive(key) {\n",
              "          const element = document.querySelector('#df-98c1dd1e-fc63-40f3-864a-41ab2e7ba554');\n",
              "          const dataTable =\n",
              "            await google.colab.kernel.invokeFunction('convertToInteractive',\n",
              "                                                     [key], {});\n",
              "          if (!dataTable) return;\n",
              "\n",
              "          const docLinkHtml = 'Like what you see? Visit the ' +\n",
              "            '<a target=\"_blank\" href=https://colab.research.google.com/notebooks/data_table.ipynb>data table notebook</a>'\n",
              "            + ' to learn more about interactive tables.';\n",
              "          element.innerHTML = '';\n",
              "          dataTable['output_type'] = 'display_data';\n",
              "          await google.colab.output.renderOutput(dataTable, element);\n",
              "          const docLink = document.createElement('div');\n",
              "          docLink.innerHTML = docLinkHtml;\n",
              "          element.appendChild(docLink);\n",
              "        }\n",
              "      </script>\n",
              "    </div>\n",
              "  </div>\n",
              "  "
            ],
            "text/plain": [
              "               y\n",
              "ds              \n",
              "2020-01-23   1.0\n",
              "2020-01-24   8.0\n",
              "2020-01-25  16.0\n",
              "2020-01-26  14.0\n",
              "2020-01-27  26.0"
            ]
          },
          "metadata": {},
          "execution_count": 25
        }
      ],
      "source": [
        "dataset = dataset.loc['2020-01-23':'2020-08-13']\n",
        "dataset.head()"
      ]
    },
    {
      "cell_type": "markdown",
      "source": [
        "### Our dataset is now ready"
      ],
      "metadata": {
        "id": "d3dE38e6hxEG"
      }
    },
    {
      "cell_type": "markdown",
      "metadata": {
        "id": "WZNtSnVZeqYZ"
      },
      "source": [
        "# Task 2: Forcasting using SARIMAX, or Seasonal AutoRegressive Integrated Moving Average with eXogenous regressors model"
      ]
    },
    {
      "cell_type": "markdown",
      "metadata": {
        "id": "AABIm2H7eqYZ"
      },
      "source": [
        "SARIMAX is one of the time series models in the python statistics library statsmodels."
      ]
    },
    {
      "cell_type": "markdown",
      "metadata": {
        "id": "1JoWU7zYeqYZ"
      },
      "source": [
        "But before we apply the model, we will split our dataset into a training and test sets. We will do this by taking all dates prior to 31st of July as training set, on which the model will be optimized, and all dates from 31st July as the test set, on which we will test the accuracy of the predictions that the optimized model will make."
      ]
    },
    {
      "cell_type": "code",
      "source": [
        "dataset"
      ],
      "metadata": {
        "colab": {
          "base_uri": "https://localhost:8080/",
          "height": 455
        },
        "id": "iiuvXN6jiIh4",
        "outputId": "c82a0b9e-ec7e-4b6c-c876-0bbffadd5b6d"
      },
      "execution_count": 26,
      "outputs": [
        {
          "output_type": "execute_result",
          "data": {
            "text/html": [
              "\n",
              "  <div id=\"df-dd899b72-5483-48ff-ba7e-44b4cd12d518\">\n",
              "    <div class=\"colab-df-container\">\n",
              "      <div>\n",
              "<style scoped>\n",
              "    .dataframe tbody tr th:only-of-type {\n",
              "        vertical-align: middle;\n",
              "    }\n",
              "\n",
              "    .dataframe tbody tr th {\n",
              "        vertical-align: top;\n",
              "    }\n",
              "\n",
              "    .dataframe thead th {\n",
              "        text-align: right;\n",
              "    }\n",
              "</style>\n",
              "<table border=\"1\" class=\"dataframe\">\n",
              "  <thead>\n",
              "    <tr style=\"text-align: right;\">\n",
              "      <th></th>\n",
              "      <th>y</th>\n",
              "    </tr>\n",
              "    <tr>\n",
              "      <th>ds</th>\n",
              "      <th></th>\n",
              "    </tr>\n",
              "  </thead>\n",
              "  <tbody>\n",
              "    <tr>\n",
              "      <th>2020-01-23</th>\n",
              "      <td>1.0</td>\n",
              "    </tr>\n",
              "    <tr>\n",
              "      <th>2020-01-24</th>\n",
              "      <td>8.0</td>\n",
              "    </tr>\n",
              "    <tr>\n",
              "      <th>2020-01-25</th>\n",
              "      <td>16.0</td>\n",
              "    </tr>\n",
              "    <tr>\n",
              "      <th>2020-01-26</th>\n",
              "      <td>14.0</td>\n",
              "    </tr>\n",
              "    <tr>\n",
              "      <th>2020-01-27</th>\n",
              "      <td>26.0</td>\n",
              "    </tr>\n",
              "    <tr>\n",
              "      <th>...</th>\n",
              "      <td>...</td>\n",
              "    </tr>\n",
              "    <tr>\n",
              "      <th>2020-08-09</th>\n",
              "      <td>4542.0</td>\n",
              "    </tr>\n",
              "    <tr>\n",
              "      <th>2020-08-10</th>\n",
              "      <td>4931.0</td>\n",
              "    </tr>\n",
              "    <tr>\n",
              "      <th>2020-08-11</th>\n",
              "      <td>6419.0</td>\n",
              "    </tr>\n",
              "    <tr>\n",
              "      <th>2020-08-12</th>\n",
              "      <td>6609.0</td>\n",
              "    </tr>\n",
              "    <tr>\n",
              "      <th>2020-08-13</th>\n",
              "      <td>6241.0</td>\n",
              "    </tr>\n",
              "  </tbody>\n",
              "</table>\n",
              "<p>204 rows × 1 columns</p>\n",
              "</div>\n",
              "      <button class=\"colab-df-convert\" onclick=\"convertToInteractive('df-dd899b72-5483-48ff-ba7e-44b4cd12d518')\"\n",
              "              title=\"Convert this dataframe to an interactive table.\"\n",
              "              style=\"display:none;\">\n",
              "        \n",
              "  <svg xmlns=\"http://www.w3.org/2000/svg\" height=\"24px\"viewBox=\"0 0 24 24\"\n",
              "       width=\"24px\">\n",
              "    <path d=\"M0 0h24v24H0V0z\" fill=\"none\"/>\n",
              "    <path d=\"M18.56 5.44l.94 2.06.94-2.06 2.06-.94-2.06-.94-.94-2.06-.94 2.06-2.06.94zm-11 1L8.5 8.5l.94-2.06 2.06-.94-2.06-.94L8.5 2.5l-.94 2.06-2.06.94zm10 10l.94 2.06.94-2.06 2.06-.94-2.06-.94-.94-2.06-.94 2.06-2.06.94z\"/><path d=\"M17.41 7.96l-1.37-1.37c-.4-.4-.92-.59-1.43-.59-.52 0-1.04.2-1.43.59L10.3 9.45l-7.72 7.72c-.78.78-.78 2.05 0 2.83L4 21.41c.39.39.9.59 1.41.59.51 0 1.02-.2 1.41-.59l7.78-7.78 2.81-2.81c.8-.78.8-2.07 0-2.86zM5.41 20L4 18.59l7.72-7.72 1.47 1.35L5.41 20z\"/>\n",
              "  </svg>\n",
              "      </button>\n",
              "      \n",
              "  <style>\n",
              "    .colab-df-container {\n",
              "      display:flex;\n",
              "      flex-wrap:wrap;\n",
              "      gap: 12px;\n",
              "    }\n",
              "\n",
              "    .colab-df-convert {\n",
              "      background-color: #E8F0FE;\n",
              "      border: none;\n",
              "      border-radius: 50%;\n",
              "      cursor: pointer;\n",
              "      display: none;\n",
              "      fill: #1967D2;\n",
              "      height: 32px;\n",
              "      padding: 0 0 0 0;\n",
              "      width: 32px;\n",
              "    }\n",
              "\n",
              "    .colab-df-convert:hover {\n",
              "      background-color: #E2EBFA;\n",
              "      box-shadow: 0px 1px 2px rgba(60, 64, 67, 0.3), 0px 1px 3px 1px rgba(60, 64, 67, 0.15);\n",
              "      fill: #174EA6;\n",
              "    }\n",
              "\n",
              "    [theme=dark] .colab-df-convert {\n",
              "      background-color: #3B4455;\n",
              "      fill: #D2E3FC;\n",
              "    }\n",
              "\n",
              "    [theme=dark] .colab-df-convert:hover {\n",
              "      background-color: #434B5C;\n",
              "      box-shadow: 0px 1px 3px 1px rgba(0, 0, 0, 0.15);\n",
              "      filter: drop-shadow(0px 1px 2px rgba(0, 0, 0, 0.3));\n",
              "      fill: #FFFFFF;\n",
              "    }\n",
              "  </style>\n",
              "\n",
              "      <script>\n",
              "        const buttonEl =\n",
              "          document.querySelector('#df-dd899b72-5483-48ff-ba7e-44b4cd12d518 button.colab-df-convert');\n",
              "        buttonEl.style.display =\n",
              "          google.colab.kernel.accessAllowed ? 'block' : 'none';\n",
              "\n",
              "        async function convertToInteractive(key) {\n",
              "          const element = document.querySelector('#df-dd899b72-5483-48ff-ba7e-44b4cd12d518');\n",
              "          const dataTable =\n",
              "            await google.colab.kernel.invokeFunction('convertToInteractive',\n",
              "                                                     [key], {});\n",
              "          if (!dataTable) return;\n",
              "\n",
              "          const docLinkHtml = 'Like what you see? Visit the ' +\n",
              "            '<a target=\"_blank\" href=https://colab.research.google.com/notebooks/data_table.ipynb>data table notebook</a>'\n",
              "            + ' to learn more about interactive tables.';\n",
              "          element.innerHTML = '';\n",
              "          dataTable['output_type'] = 'display_data';\n",
              "          await google.colab.output.renderOutput(dataTable, element);\n",
              "          const docLink = document.createElement('div');\n",
              "          docLink.innerHTML = docLinkHtml;\n",
              "          element.appendChild(docLink);\n",
              "        }\n",
              "      </script>\n",
              "    </div>\n",
              "  </div>\n",
              "  "
            ],
            "text/plain": [
              "                 y\n",
              "ds                \n",
              "2020-01-23     1.0\n",
              "2020-01-24     8.0\n",
              "2020-01-25    16.0\n",
              "2020-01-26    14.0\n",
              "2020-01-27    26.0\n",
              "...            ...\n",
              "2020-08-09  4542.0\n",
              "2020-08-10  4931.0\n",
              "2020-08-11  6419.0\n",
              "2020-08-12  6609.0\n",
              "2020-08-13  6241.0\n",
              "\n",
              "[204 rows x 1 columns]"
            ]
          },
          "metadata": {},
          "execution_count": 26
        }
      ]
    },
    {
      "cell_type": "code",
      "execution_count": 27,
      "metadata": {
        "id": "Eat2XabEeqYa"
      },
      "outputs": [],
      "source": [
        "# create train test split\n",
        "start_date = '2020-07-31'\n",
        "\n",
        "train = dataset.loc[dataset.index < pd.to_datetime(start_date)]\n",
        "test = dataset.loc[dataset.index >= pd.to_datetime(start_date)]"
      ]
    },
    {
      "cell_type": "markdown",
      "metadata": {
        "id": "hZFRzV3peqYa"
      },
      "source": [
        "Now let's talk about SARIMAX. There are three hyperparameters that go into the order tuple: p, q and d. Here we've used p=2, q=1 and d=3."
      ]
    },
    {
      "cell_type": "code",
      "execution_count": 28,
      "metadata": {
        "id": "KBNZQShreqYa"
      },
      "outputs": [],
      "source": [
        "# create an instance of the model\n",
        "model = SARIMAX(train, order=(2, 1, 3)) # Here the order is p,q,d (you can get these values from auto-arima. Shown later in this notebook)"
      ]
    },
    {
      "cell_type": "markdown",
      "metadata": {
        "id": "ikg5y645eqYb"
      },
      "source": [
        "Next, we call the fit method to optimize the model."
      ]
    },
    {
      "cell_type": "code",
      "execution_count": 29,
      "metadata": {
        "id": "B7uXqoh7eqYb"
      },
      "outputs": [],
      "source": [
        "# fit the model\n",
        "results = model.fit(disp=True)"
      ]
    },
    {
      "cell_type": "markdown",
      "metadata": {
        "id": "gBgtaj7jeqYb"
      },
      "source": [
        "Now let's make predictions using the model, and compare those against the values in the test set."
      ]
    },
    {
      "cell_type": "code",
      "execution_count": 30,
      "metadata": {
        "colab": {
          "base_uri": "https://localhost:8080/",
          "height": 320
        },
        "id": "HREGL7VAeqYb",
        "outputId": "2ef4d28a-241c-4799-924a-37e9c0a26fe7"
      },
      "outputs": [
        {
          "output_type": "display_data",
          "data": {
            "image/png": "[encoded data removed]",
            "text/plain": [
              "<Figure size 720x360 with 1 Axes>"
            ]
          },
          "metadata": {
            "needs_background": "light"
          }
        }
      ],
      "source": [
        "sarimax_prediction = results.predict(\n",
        "    start=start_date, end='2020-08-13', dynamic=False)\n",
        "plt.figure(figsize=(10, 5))\n",
        "l1, = plt.plot(dataset, label='Observation')\n",
        "l2, = plt.plot(sarimax_prediction, label='ARIMA')\n",
        "plt.legend(handles=[l1, l2])\n",
        "plt.savefig('SARIMAX prediction', bbox_inches='tight', transparent=False)"
      ]
    },
    {
      "cell_type": "markdown",
      "metadata": {
        "id": "0UVFage5eqYc"
      },
      "source": [
        "Since that we are interested in comparing between the different time series analysis approaches, we are going to use one of the validation measures: **Mean Absolute Error (MAE)**."
      ]
    },
    {
      "cell_type": "code",
      "execution_count": null,
      "metadata": {
        "id": "PMxU46YweqYc",
        "outputId": "182ba23a-370a-4a7d-9150-c34ff50d9085"
      },
      "outputs": [
        {
          "name": "stdout",
          "output_type": "stream",
          "text": [
            "SARIMAX MAE =  650.6548918305232\n"
          ]
        }
      ],
      "source": [
        "print('SARIMAX MAE = ', mean_absolute_error(sarimax_prediction, test))"
      ]
    },
    {
      "cell_type": "markdown",
      "metadata": {
        "id": "Lz7S9MRseqYd"
      },
      "source": [
        "However, in a typical machine learning workflow, we should find the best values of p, q and r that will minimize the error. We can use the auto_arima function in the pmdarima module to do that. This will find the optimal parameter combintation and return the best model.\n"
      ]
    },
    {
      "cell_type": "code",
      "execution_count": 31,
      "metadata": {
        "colab": {
          "base_uri": "https://localhost:8080/"
        },
        "id": "R0kjqAzBeqYd",
        "outputId": "fba80ac6-4b00-4515-b302-7b7e09b9a4e2"
      },
      "outputs": [
        {
          "output_type": "stream",
          "name": "stdout",
          "text": [
            "Performing stepwise search to minimize aic\n",
            " ARIMA(1,1,1)(0,0,0)[0] intercept   : AIC=3111.971, Time=0.21 sec\n",
            " ARIMA(0,1,0)(0,0,0)[0] intercept   : AIC=3132.320, Time=0.02 sec\n",
            " ARIMA(1,1,0)(0,0,0)[0] intercept   : AIC=3133.730, Time=0.03 sec\n",
            " ARIMA(0,1,1)(0,0,0)[0] intercept   : AIC=3133.267, Time=0.04 sec\n",
            " ARIMA(0,1,0)(0,0,0)[0]             : AIC=3130.535, Time=0.01 sec\n",
            " ARIMA(2,1,1)(0,0,0)[0] intercept   : AIC=3099.414, Time=0.47 sec\n",
            " ARIMA(2,1,0)(0,0,0)[0] intercept   : AIC=3128.118, Time=0.04 sec\n",
            " ARIMA(3,1,1)(0,0,0)[0] intercept   : AIC=3089.597, Time=0.46 sec\n",
            " ARIMA(3,1,0)(0,0,0)[0] intercept   : AIC=3116.490, Time=0.06 sec\n",
            " ARIMA(3,1,2)(0,0,0)[0] intercept   : AIC=3043.847, Time=0.61 sec\n",
            " ARIMA(2,1,2)(0,0,0)[0] intercept   : AIC=3040.433, Time=0.53 sec\n",
            " ARIMA(1,1,2)(0,0,0)[0] intercept   : AIC=3106.308, Time=0.43 sec\n",
            " ARIMA(2,1,3)(0,0,0)[0] intercept   : AIC=3025.720, Time=0.70 sec\n",
            " ARIMA(1,1,3)(0,0,0)[0] intercept   : AIC=3105.847, Time=0.47 sec\n",
            " ARIMA(3,1,3)(0,0,0)[0] intercept   : AIC=3032.793, Time=0.83 sec\n",
            " ARIMA(2,1,3)(0,0,0)[0]             : AIC=3024.848, Time=0.57 sec\n",
            " ARIMA(1,1,3)(0,0,0)[0]             : AIC=inf, Time=0.37 sec\n",
            " ARIMA(2,1,2)(0,0,0)[0]             : AIC=inf, Time=0.26 sec\n",
            " ARIMA(3,1,3)(0,0,0)[0]             : AIC=3036.912, Time=0.66 sec\n",
            " ARIMA(1,1,2)(0,0,0)[0]             : AIC=3106.064, Time=0.16 sec\n",
            " ARIMA(3,1,2)(0,0,0)[0]             : AIC=3030.661, Time=0.53 sec\n",
            "\n",
            "Best model:  ARIMA(2,1,3)(0,0,0)[0]          \n",
            "Total fit time: 7.501 seconds\n",
            "                               SARIMAX Results                                \n",
            "==============================================================================\n",
            "Dep. Variable:                      y   No. Observations:                  190\n",
            "Model:               SARIMAX(2, 1, 3)   Log Likelihood               -1506.424\n",
            "Date:                Tue, 01 Feb 2022   AIC                           3024.848\n",
            "Time:                        18:32:18   BIC                           3044.298\n",
            "Sample:                             0   HQIC                          3032.728\n",
            "                                - 190                                         \n",
            "Covariance Type:                  opg                                         \n",
            "==============================================================================\n",
            "                 coef    std err          z      P>|z|      [0.025      0.975]\n",
            "------------------------------------------------------------------------------\n",
            "ar.L1          1.2434      0.017     72.425      0.000       1.210       1.277\n",
            "ar.L2         -0.9796      0.019    -51.210      0.000      -1.017      -0.942\n",
            "ma.L1         -1.7687      0.065    -27.197      0.000      -1.896      -1.641\n",
            "ma.L2          1.4753      0.097     15.267      0.000       1.286       1.665\n",
            "ma.L3         -0.3939      0.064     -6.142      0.000      -0.520      -0.268\n",
            "sigma2      4.964e+05   3.61e+04     13.750      0.000    4.26e+05    5.67e+05\n",
            "===================================================================================\n",
            "Ljung-Box (L1) (Q):                   0.28   Jarque-Bera (JB):                95.44\n",
            "Prob(Q):                              0.59   Prob(JB):                         0.00\n",
            "Heteroskedasticity (H):              13.70   Skew:                             0.67\n",
            "Prob(H) (two-sided):                  0.00   Kurtosis:                         6.22\n",
            "===================================================================================\n",
            "\n",
            "Warnings:\n",
            "[1] Covariance matrix calculated using the outer product of gradients (complex-step).\n"
          ]
        }
      ],
      "source": [
        "# find the hyper-parameter values p,q,d\n",
        "\n",
        "model = pm.auto_arima(train, start_p=1, start_q=1,\n",
        "                      test='adf',       # use adftest to find optimal 'd'\n",
        "                      max_p=3, max_q=3,  # maximum p and q\n",
        "                      m=1,              # frequency of series\n",
        "                      d=None,           # let model determine 'd'\n",
        "                      seasonal=False,   # No Seasonality\n",
        "                      start_P=0,\n",
        "                      D=0,\n",
        "                      trace=True,\n",
        "                      error_action='ignore',\n",
        "                      suppress_warnings=True,\n",
        "                      stepwise=True)\n",
        "\n",
        "print(model.summary())"
      ]
    },
    {
      "cell_type": "markdown",
      "metadata": {
        "id": "yo16PnWjeqYe"
      },
      "source": [
        "Note that this gives us the best mode here: \"Best model:  SARIMAX(2,2,3)(0,0,0)[0]\""
      ]
    },
    {
      "cell_type": "markdown",
      "metadata": {
        "id": "sri4hJ75eqYf"
      },
      "source": [
        "# Task 3: Forcasting using Facebook's Prophet model"
      ]
    },
    {
      "cell_type": "markdown",
      "metadata": {
        "id": "-dX2zvh7eqYf"
      },
      "source": [
        "This is the open source time series library released by Facebook. It is also widely used by Facebook in their own time series analysis tasks. Facebook prophet does not require that you specify or search for hyperparameters. The model can act as a black box that does all the required computations on its own. And it works with the same object-fit-predict API like sklearn\n",
        "\n",
        "Prophet expects the data frame to have 2 columns, unlike SARIMAX."
      ]
    },
    {
      "cell_type": "code",
      "execution_count": null,
      "metadata": {
        "id": "Xwj1-snReqYg"
      },
      "outputs": [],
      "source": [
        "train['ds'] = train.index.values\n",
        "train.head(3)"
      ]
    },
    {
      "cell_type": "markdown",
      "metadata": {
        "id": "Hn-0LEyDeqYg"
      },
      "source": [
        "Then we create a new Prophet object and call the `fit()` method"
      ]
    },
    {
      "cell_type": "code",
      "execution_count": 33,
      "metadata": {
        "colab": {
          "base_uri": "https://localhost:8080/"
        },
        "id": "5PpSPccxeqYg",
        "outputId": "aca75bec-2e86-49b6-ae60-2223deee738c"
      },
      "outputs": [
        {
          "output_type": "stream",
          "name": "stderr",
          "text": [
            "INFO:fbprophet:Disabling yearly seasonality. Run prophet with yearly_seasonality=True to override this.\n",
            "INFO:fbprophet:Disabling daily seasonality. Run prophet with daily_seasonality=True to override this.\n"
          ]
        },
        {
          "output_type": "execute_result",
          "data": {
            "text/plain": [
              "<fbprophet.forecaster.Prophet at 0x7faa2811f210>"
            ]
          },
          "metadata": {},
          "execution_count": 33
        }
      ],
      "source": [
        "m = Prophet()\n",
        "m.fit(train)"
      ]
    },
    {
      "cell_type": "markdown",
      "metadata": {
        "id": "1Tt5Yo92eqYh"
      },
      "source": [
        "Now let's forecast:"
      ]
    },
    {
      "cell_type": "code",
      "execution_count": 34,
      "metadata": {
        "id": "tJrmtAAzeqYh"
      },
      "outputs": [],
      "source": [
        "# Here we have to use two methods not just .predict\n",
        "# the first allocates the number of periods. periods is numnber of days we need to forecast in future\n",
        "future = m.make_future_dataframe(periods=dataset.shape[0]-train.shape[0]) # test = total records from dataset - train \n",
        "prophet_prediction = m.predict(future)"
      ]
    },
    {
      "cell_type": "markdown",
      "metadata": {
        "id": "sqhExmg1eqYh"
      },
      "source": [
        "Now let us calculate the **Mean Absolute Error (MAE)** for our predictions."
      ]
    },
    {
      "cell_type": "code",
      "execution_count": 35,
      "metadata": {
        "colab": {
          "base_uri": "https://localhost:8080/"
        },
        "id": "objsJvWFeqYh",
        "outputId": "d85d7de0-3c54-40aa-9f6e-5b8d0484e103"
      },
      "outputs": [
        {
          "output_type": "stream",
          "name": "stdout",
          "text": [
            "Prophet MAE =  571.8872860781038\n"
          ]
        }
      ],
      "source": [
        "prophet_prediction = prophet_prediction.set_index('ds')\n",
        "prophet_future = prophet_prediction.yhat.loc[prophet_prediction.index >= start_date]\n",
        "print('Prophet MAE = ', mean_absolute_error(prophet_future, test))"
      ]
    },
    {
      "cell_type": "markdown",
      "metadata": {
        "id": "rear00OfeqYi"
      },
      "source": [
        "Next, let's visualize the predictions."
      ]
    },
    {
      "cell_type": "code",
      "execution_count": null,
      "metadata": {
        "id": "W6TfRuZpeqYi",
        "outputId": "bfcf3c02-afd2-48d5-8591-df34b204f074"
      },
      "outputs": [
        {
          "data": {
            "image/png": "[encoded data removed]",
            "text/plain": [
              "<Figure size 720x360 with 1 Axes>"
            ]
          },
          "metadata": {
            "needs_background": "light"
          },
          "output_type": "display_data"
        }
      ],
      "source": [
        "plt.figure(figsize=(10, 5))\n",
        "l1, = plt.plot(dataset, label='Observation')\n",
        "l1, = plt.plot(prophet_future, label='Prophet')\n",
        "plt.legend(handles=[l1, l2])\n",
        "plt.savefig('Prophet predictions',\n",
        "            bbox_inches='tight', transparent=False)"
      ]
    },
    {
      "cell_type": "markdown",
      "metadata": {
        "id": "XA6VzypbeqYj"
      },
      "source": [
        "# Task 4: Preparing the dataset for XGBOOST and NN"
      ]
    },
    {
      "cell_type": "markdown",
      "metadata": {
        "id": "6aSlsvjSeqYj"
      },
      "source": [
        "Unlike the prophet and SARIMAX models, the two models we will train in Task 6, namely XGBOOST and NN, are supervised machine learning models that deal with independent data points, or examples. It assumes that each data point is totally independent from the rest of the data points in the dataset. To make those datapoints independant, we extract date features. Otherwise a datapoint on June 2, 2020 is related to another datapoint on July 2, 2020 in a way that the former is before the later.\n",
        "\n",
        "Here is a method that extracts these features from a given dataframe object."
      ]
    },
    {
      "cell_type": "code",
      "execution_count": 38,
      "metadata": {
        "colab": {
          "base_uri": "https://localhost:8080/",
          "height": 206
        },
        "id": "llKZSL7UeqYj",
        "outputId": "5d7251b4-fa6c-4a92-d84f-ad31a7eb5e93"
      },
      "outputs": [
        {
          "output_type": "execute_result",
          "data": {
            "text/html": [
              "\n",
              "  <div id=\"df-b22e9f7c-4082-43a7-98c9-41c402bad76e\">\n",
              "    <div class=\"colab-df-container\">\n",
              "      <div>\n",
              "<style scoped>\n",
              "    .dataframe tbody tr th:only-of-type {\n",
              "        vertical-align: middle;\n",
              "    }\n",
              "\n",
              "    .dataframe tbody tr th {\n",
              "        vertical-align: top;\n",
              "    }\n",
              "\n",
              "    .dataframe thead th {\n",
              "        text-align: right;\n",
              "    }\n",
              "</style>\n",
              "<table border=\"1\" class=\"dataframe\">\n",
              "  <thead>\n",
              "    <tr style=\"text-align: right;\">\n",
              "      <th></th>\n",
              "      <th>day</th>\n",
              "      <th>month</th>\n",
              "      <th>quarter</th>\n",
              "      <th>dayofweek</th>\n",
              "      <th>dayofyear</th>\n",
              "      <th>weekofyear</th>\n",
              "    </tr>\n",
              "  </thead>\n",
              "  <tbody>\n",
              "    <tr>\n",
              "      <th>0</th>\n",
              "      <td>23</td>\n",
              "      <td>1</td>\n",
              "      <td>1</td>\n",
              "      <td>3</td>\n",
              "      <td>23</td>\n",
              "      <td>4</td>\n",
              "    </tr>\n",
              "    <tr>\n",
              "      <th>1</th>\n",
              "      <td>24</td>\n",
              "      <td>1</td>\n",
              "      <td>1</td>\n",
              "      <td>4</td>\n",
              "      <td>24</td>\n",
              "      <td>4</td>\n",
              "    </tr>\n",
              "    <tr>\n",
              "      <th>2</th>\n",
              "      <td>25</td>\n",
              "      <td>1</td>\n",
              "      <td>1</td>\n",
              "      <td>5</td>\n",
              "      <td>25</td>\n",
              "      <td>4</td>\n",
              "    </tr>\n",
              "    <tr>\n",
              "      <th>3</th>\n",
              "      <td>26</td>\n",
              "      <td>1</td>\n",
              "      <td>1</td>\n",
              "      <td>6</td>\n",
              "      <td>26</td>\n",
              "      <td>4</td>\n",
              "    </tr>\n",
              "    <tr>\n",
              "      <th>4</th>\n",
              "      <td>27</td>\n",
              "      <td>1</td>\n",
              "      <td>1</td>\n",
              "      <td>0</td>\n",
              "      <td>27</td>\n",
              "      <td>5</td>\n",
              "    </tr>\n",
              "  </tbody>\n",
              "</table>\n",
              "</div>\n",
              "      <button class=\"colab-df-convert\" onclick=\"convertToInteractive('df-b22e9f7c-4082-43a7-98c9-41c402bad76e')\"\n",
              "              title=\"Convert this dataframe to an interactive table.\"\n",
              "              style=\"display:none;\">\n",
              "        \n",
              "  <svg xmlns=\"http://www.w3.org/2000/svg\" height=\"24px\"viewBox=\"0 0 24 24\"\n",
              "       width=\"24px\">\n",
              "    <path d=\"M0 0h24v24H0V0z\" fill=\"none\"/>\n",
              "    <path d=\"M18.56 5.44l.94 2.06.94-2.06 2.06-.94-2.06-.94-.94-2.06-.94 2.06-2.06.94zm-11 1L8.5 8.5l.94-2.06 2.06-.94-2.06-.94L8.5 2.5l-.94 2.06-2.06.94zm10 10l.94 2.06.94-2.06 2.06-.94-2.06-.94-.94-2.06-.94 2.06-2.06.94z\"/><path d=\"M17.41 7.96l-1.37-1.37c-.4-.4-.92-.59-1.43-.59-.52 0-1.04.2-1.43.59L10.3 9.45l-7.72 7.72c-.78.78-.78 2.05 0 2.83L4 21.41c.39.39.9.59 1.41.59.51 0 1.02-.2 1.41-.59l7.78-7.78 2.81-2.81c.8-.78.8-2.07 0-2.86zM5.41 20L4 18.59l7.72-7.72 1.47 1.35L5.41 20z\"/>\n",
              "  </svg>\n",
              "      </button>\n",
              "      \n",
              "  <style>\n",
              "    .colab-df-container {\n",
              "      display:flex;\n",
              "      flex-wrap:wrap;\n",
              "      gap: 12px;\n",
              "    }\n",
              "\n",
              "    .colab-df-convert {\n",
              "      background-color: #E8F0FE;\n",
              "      border: none;\n",
              "      border-radius: 50%;\n",
              "      cursor: pointer;\n",
              "      display: none;\n",
              "      fill: #1967D2;\n",
              "      height: 32px;\n",
              "      padding: 0 0 0 0;\n",
              "      width: 32px;\n",
              "    }\n",
              "\n",
              "    .colab-df-convert:hover {\n",
              "      background-color: #E2EBFA;\n",
              "      box-shadow: 0px 1px 2px rgba(60, 64, 67, 0.3), 0px 1px 3px 1px rgba(60, 64, 67, 0.15);\n",
              "      fill: #174EA6;\n",
              "    }\n",
              "\n",
              "    [theme=dark] .colab-df-convert {\n",
              "      background-color: #3B4455;\n",
              "      fill: #D2E3FC;\n",
              "    }\n",
              "\n",
              "    [theme=dark] .colab-df-convert:hover {\n",
              "      background-color: #434B5C;\n",
              "      box-shadow: 0px 1px 3px 1px rgba(0, 0, 0, 0.15);\n",
              "      filter: drop-shadow(0px 1px 2px rgba(0, 0, 0, 0.3));\n",
              "      fill: #FFFFFF;\n",
              "    }\n",
              "  </style>\n",
              "\n",
              "      <script>\n",
              "        const buttonEl =\n",
              "          document.querySelector('#df-b22e9f7c-4082-43a7-98c9-41c402bad76e button.colab-df-convert');\n",
              "        buttonEl.style.display =\n",
              "          google.colab.kernel.accessAllowed ? 'block' : 'none';\n",
              "\n",
              "        async function convertToInteractive(key) {\n",
              "          const element = document.querySelector('#df-b22e9f7c-4082-43a7-98c9-41c402bad76e');\n",
              "          const dataTable =\n",
              "            await google.colab.kernel.invokeFunction('convertToInteractive',\n",
              "                                                     [key], {});\n",
              "          if (!dataTable) return;\n",
              "\n",
              "          const docLinkHtml = 'Like what you see? Visit the ' +\n",
              "            '<a target=\"_blank\" href=https://colab.research.google.com/notebooks/data_table.ipynb>data table notebook</a>'\n",
              "            + ' to learn more about interactive tables.';\n",
              "          element.innerHTML = '';\n",
              "          dataTable['output_type'] = 'display_data';\n",
              "          await google.colab.output.renderOutput(dataTable, element);\n",
              "          const docLink = document.createElement('div');\n",
              "          docLink.innerHTML = docLinkHtml;\n",
              "          element.appendChild(docLink);\n",
              "        }\n",
              "      </script>\n",
              "    </div>\n",
              "  </div>\n",
              "  "
            ],
            "text/plain": [
              "   day  month  quarter  dayofweek  dayofyear  weekofyear\n",
              "0   23      1        1          3         23           4\n",
              "1   24      1        1          4         24           4\n",
              "2   25      1        1          5         25           4\n",
              "3   26      1        1          6         26           4\n",
              "4   27      1        1          0         27           5"
            ]
          },
          "metadata": {},
          "execution_count": 38
        }
      ],
      "source": [
        "def featurize(t):\n",
        "    X = pd.DataFrame()\n",
        "\n",
        "    X['day'] = t.index.day\n",
        "    X['month'] = t.index.month\n",
        "    X['quarter'] = t.index.quarter\n",
        "    X['dayofweek'] = t.index.dayofweek\n",
        "    X['dayofyear'] = t.index.dayofyear\n",
        "    X['weekofyear'] = t.index.weekofyear\n",
        "    y = t.y\n",
        "    return X, y\n",
        "\n",
        "\n",
        "featurize(dataset)[0].head()"
      ]
    },
    {
      "cell_type": "markdown",
      "metadata": {
        "id": "pkE43ru8eqYk"
      },
      "source": [
        "# Task 5: Create training and test datasets by splitting the dataset, and perform data normalization."
      ]
    },
    {
      "cell_type": "markdown",
      "metadata": {
        "id": "2PyygwhjeqYk"
      },
      "source": [
        "In this task we are going to cover two topics in data preparation: splitting the dataset into training and test data, and normalizing the data.\n",
        "\n",
        "You might have already performed a splitting operation of a dataset in machine learning, where one takes a randomly selected portion of the dataset, say 20%, as a test set, while the remaining 80% is the training set. It is randomly selected because the whole dataset is randomly shufflled before the selection. Another popular approach is the k-fold cross validation.\n",
        "\n",
        "However, those two methods won't work with time series data. The reason is: when we train the model on the training set, the purpose is to predict the target values in the future, which corresponds to date values that are outside of the date values in the training set."
      ]
    },
    {
      "cell_type": "code",
      "execution_count": 39,
      "metadata": {
        "id": "i4dJDEcneqYk"
      },
      "outputs": [],
      "source": [
        "X_train, y_train = featurize(\n",
        "    dataset.loc[dataset.index < pd.to_datetime(start_date)])\n",
        "X_test, y_test = featurize(\n",
        "    dataset.loc[dataset.index >= pd.to_datetime(start_date)])"
      ]
    },
    {
      "cell_type": "markdown",
      "metadata": {
        "id": "JpHstAgseqYl"
      },
      "source": [
        "Now let's discuss data normalization. We perform data normalization so as to make the range of values of the features, or the columns in the X_train table, as close as possible. For example, we have the features dayofweek and dayofyear. The range of values of dayofweek is from 1 to 7, whereas dayofyear is from 1 to 365. Having such large differences in the ranges of values will either slow down the training of the machine learning model or make it quite difficult. We solve this problem by applying normalization. There are several ways we can normalize the data with. Here I will choose the StandardScaler, which applies the following equation on each of the columns.\n",
        "\n",
        "z = (x - u) / s\n",
        "\n",
        "Here x is the column before scaling, u is thee mean and s is the standard deviation. So basically, we subtract the mean of each column from itself, then divide by the standard deviation of that column. To apply StandardScaler, we first fit the scaler object to the dataset:\n"
      ]
    },
    {
      "cell_type": "code",
      "execution_count": 40,
      "metadata": {
        "colab": {
          "base_uri": "https://localhost:8080/"
        },
        "id": "kzSJWru_eqYl",
        "outputId": "825ee832-4c4f-4f17-c40d-00a628b97e44"
      },
      "outputs": [
        {
          "output_type": "execute_result",
          "data": {
            "text/plain": [
              "StandardScaler()"
            ]
          },
          "metadata": {},
          "execution_count": 40
        }
      ],
      "source": [
        "scaler = StandardScaler()\n",
        "scaler.fit(X_train)"
      ]
    },
    {
      "cell_type": "markdown",
      "metadata": {
        "id": "zPvIQuYNeqYl"
      },
      "source": [
        "Apply the scaling to both the training and test sets, as follows."
      ]
    },
    {
      "cell_type": "code",
      "execution_count": 41,
      "metadata": {
        "id": "GkcPkwiteqYl"
      },
      "outputs": [],
      "source": [
        "scaled_train = scaler.transform(X_train)\n",
        "scaled_test = scaler.transform(X_test)"
      ]
    },
    {
      "cell_type": "markdown",
      "metadata": {
        "id": "3CPQLKKieqYm"
      },
      "source": [
        "# Task 6: Train the XGBOOST and NN models"
      ]
    },
    {
      "cell_type": "markdown",
      "metadata": {
        "id": "ygykSJQqeqYm"
      },
      "source": [
        "First, create the XGBRegressor object which will represent the XGBOOST regression model."
      ]
    },
    {
      "cell_type": "code",
      "execution_count": 42,
      "metadata": {
        "id": "qdmOOo3neqYm"
      },
      "outputs": [],
      "source": [
        "XGBOOST_model = XGBRegressor(n_estimators=7)\n"
      ]
    },
    {
      "cell_type": "markdown",
      "metadata": {
        "id": "F6QLnxDJeqYm"
      },
      "source": [
        "Next, train the XGBOOST regression model using the fit method, and perform prediction using the predict method."
      ]
    },
    {
      "cell_type": "code",
      "execution_count": 45,
      "metadata": {
        "colab": {
          "base_uri": "https://localhost:8080/"
        },
        "id": "CM9vaWX5eqYn",
        "outputId": "969357ba-b781-4640-80d4-cf2a69f4e3f2"
      },
      "outputs": [
        {
          "output_type": "stream",
          "name": "stdout",
          "text": [
            "[19:00:48] WARNING: /workspace/src/objective/regression_obj.cu:152: reg:linear is now deprecated in favor of reg:squarederror.\n",
            "[0]\tvalidation_0-rmse:3926.27\tvalidation_1-rmse:5364.15\n",
            "[1]\tvalidation_0-rmse:3563.2\tvalidation_1-rmse:4909.52\n",
            "[2]\tvalidation_0-rmse:3234.76\tvalidation_1-rmse:4536.32\n",
            "[3]\tvalidation_0-rmse:2939.88\tvalidation_1-rmse:4200.33\n",
            "[4]\tvalidation_0-rmse:2674.4\tvalidation_1-rmse:3862.47\n",
            "[5]\tvalidation_0-rmse:2439.07\tvalidation_1-rmse:3591.74\n",
            "[6]\tvalidation_0-rmse:2223.52\tvalidation_1-rmse:3261.25\n"
          ]
        }
      ],
      "source": [
        "XGBOOST_model.fit(scaled_train, y_train,\n",
        "                  eval_set=[(scaled_train, y_train), (scaled_test, y_test)],\n",
        "                  verbose=True)\n",
        "XGBOOST_prediction = XGBOOST_model.predict(scaled_test, )"
      ]
    },
    {
      "cell_type": "markdown",
      "metadata": {
        "id": "JD3vfFzMeqYn"
      },
      "source": [
        "Let us calculate the mean absolute error for the training."
      ]
    },
    {
      "cell_type": "code",
      "execution_count": 46,
      "metadata": {
        "colab": {
          "base_uri": "https://localhost:8080/"
        },
        "id": "L58cwy3ceqYn",
        "outputId": "3ecc299b-18eb-4ff2-e3fc-3a6191ba54b6"
      },
      "outputs": [
        {
          "output_type": "stream",
          "name": "stdout",
          "text": [
            "XGBOOST MAE =  3194.1184430803573\n"
          ]
        }
      ],
      "source": [
        "print('XGBOOST MAE = ', mean_absolute_error(XGBOOST_prediction, y_test))"
      ]
    },
    {
      "cell_type": "markdown",
      "metadata": {
        "id": "PfbxRIiKeqYo"
      },
      "source": [
        "Creation and training of the feedforward neural network model."
      ]
    },
    {
      "cell_type": "code",
      "execution_count": 47,
      "metadata": {
        "colab": {
          "base_uri": "https://localhost:8080/"
        },
        "id": "lZo8GTUweqYo",
        "outputId": "c3bd0e27-7ce9-4b7d-85f9-dab63a8c0e07"
      },
      "outputs": [
        {
          "output_type": "stream",
          "name": "stdout",
          "text": [
            "Epoch 1/210\n",
            "6/6 [==============================] - 1s 34ms/step - loss: 3521.5229 - val_loss: 5794.3384\n",
            "Epoch 2/210\n",
            "6/6 [==============================] - 0s 5ms/step - loss: 3521.4536 - val_loss: 5794.2563\n",
            "Epoch 3/210\n",
            "6/6 [==============================] - 0s 6ms/step - loss: 3521.3835 - val_loss: 5794.2007\n",
            "Epoch 4/210\n",
            "6/6 [==============================] - 0s 6ms/step - loss: 3521.3118 - val_loss: 5794.1362\n",
            "Epoch 5/210\n",
            "6/6 [==============================] - 0s 7ms/step - loss: 3521.2405 - val_loss: 5794.1597\n",
            "Epoch 6/210\n",
            "6/6 [==============================] - 0s 6ms/step - loss: 3521.1594 - val_loss: 5794.0972\n",
            "Epoch 7/210\n",
            "6/6 [==============================] - 0s 6ms/step - loss: 3521.0767 - val_loss: 5794.1030\n",
            "Epoch 8/210\n",
            "6/6 [==============================] - 0s 6ms/step - loss: 3520.9868 - val_loss: 5793.9907\n",
            "Epoch 9/210\n",
            "6/6 [==============================] - 0s 6ms/step - loss: 3520.8894 - val_loss: 5793.8540\n",
            "Epoch 10/210\n",
            "6/6 [==============================] - 0s 6ms/step - loss: 3520.7856 - val_loss: 5793.7197\n",
            "Epoch 11/210\n",
            "6/6 [==============================] - 0s 5ms/step - loss: 3520.6697 - val_loss: 5793.6094\n",
            "Epoch 12/210\n",
            "6/6 [==============================] - 0s 6ms/step - loss: 3520.5420 - val_loss: 5793.5767\n",
            "Epoch 13/210\n",
            "6/6 [==============================] - 0s 6ms/step - loss: 3520.3999 - val_loss: 5793.3906\n",
            "Epoch 14/210\n",
            "6/6 [==============================] - 0s 6ms/step - loss: 3520.2441 - val_loss: 5793.2397\n",
            "Epoch 15/210\n",
            "6/6 [==============================] - 0s 6ms/step - loss: 3520.0713 - val_loss: 5792.9531\n",
            "Epoch 16/210\n",
            "6/6 [==============================] - 0s 6ms/step - loss: 3519.8782 - val_loss: 5792.7769\n",
            "Epoch 17/210\n",
            "6/6 [==============================] - 0s 5ms/step - loss: 3519.6648 - val_loss: 5792.5928\n",
            "Epoch 18/210\n",
            "6/6 [==============================] - 0s 6ms/step - loss: 3519.4280 - val_loss: 5792.2681\n",
            "Epoch 19/210\n",
            "6/6 [==============================] - 0s 6ms/step - loss: 3519.1636 - val_loss: 5791.9165\n",
            "Epoch 20/210\n",
            "6/6 [==============================] - 0s 5ms/step - loss: 3518.8789 - val_loss: 5791.5244\n",
            "Epoch 21/210\n",
            "6/6 [==============================] - 0s 6ms/step - loss: 3518.5571 - val_loss: 5790.9653\n",
            "Epoch 22/210\n",
            "6/6 [==============================] - 0s 6ms/step - loss: 3518.1990 - val_loss: 5790.4419\n",
            "Epoch 23/210\n",
            "6/6 [==============================] - 0s 6ms/step - loss: 3517.8076 - val_loss: 5789.7822\n",
            "Epoch 24/210\n",
            "6/6 [==============================] - 0s 8ms/step - loss: 3517.3789 - val_loss: 5789.0972\n",
            "Epoch 25/210\n",
            "6/6 [==============================] - 0s 6ms/step - loss: 3516.9146 - val_loss: 5788.1509\n",
            "Epoch 26/210\n",
            "6/6 [==============================] - 0s 6ms/step - loss: 3516.3938 - val_loss: 5787.0869\n",
            "Epoch 27/210\n",
            "6/6 [==============================] - 0s 6ms/step - loss: 3515.8394 - val_loss: 5785.8296\n",
            "Epoch 28/210\n",
            "6/6 [==============================] - 0s 6ms/step - loss: 3515.2275 - val_loss: 5784.3228\n",
            "Epoch 29/210\n",
            "6/6 [==============================] - 0s 7ms/step - loss: 3514.5710 - val_loss: 5782.6353\n",
            "Epoch 30/210\n",
            "6/6 [==============================] - 0s 6ms/step - loss: 3513.8379 - val_loss: 5780.7764\n",
            "Epoch 31/210\n",
            "6/6 [==============================] - 0s 6ms/step - loss: 3513.0391 - val_loss: 5779.0889\n",
            "Epoch 32/210\n",
            "6/6 [==============================] - 0s 5ms/step - loss: 3512.1987 - val_loss: 5776.7837\n",
            "Epoch 33/210\n",
            "6/6 [==============================] - 0s 6ms/step - loss: 3511.3010 - val_loss: 5774.3394\n",
            "Epoch 34/210\n",
            "6/6 [==============================] - 0s 6ms/step - loss: 3510.3123 - val_loss: 5771.9937\n",
            "Epoch 35/210\n",
            "6/6 [==============================] - 0s 5ms/step - loss: 3509.2529 - val_loss: 5769.4302\n",
            "Epoch 36/210\n",
            "6/6 [==============================] - 0s 6ms/step - loss: 3508.1218 - val_loss: 5766.8022\n",
            "Epoch 37/210\n",
            "6/6 [==============================] - 0s 8ms/step - loss: 3506.9060 - val_loss: 5764.3447\n",
            "Epoch 38/210\n",
            "6/6 [==============================] - 0s 7ms/step - loss: 3505.6799 - val_loss: 5760.7500\n",
            "Epoch 39/210\n",
            "6/6 [==============================] - 0s 7ms/step - loss: 3504.2747 - val_loss: 5757.6650\n",
            "Epoch 40/210\n",
            "6/6 [==============================] - 0s 6ms/step - loss: 3502.8059 - val_loss: 5754.3721\n",
            "Epoch 41/210\n",
            "6/6 [==============================] - 0s 7ms/step - loss: 3501.2710 - val_loss: 5751.1812\n",
            "Epoch 42/210\n",
            "6/6 [==============================] - 0s 6ms/step - loss: 3499.6392 - val_loss: 5747.6753\n",
            "Epoch 43/210\n",
            "6/6 [==============================] - 0s 7ms/step - loss: 3497.9150 - val_loss: 5743.8252\n",
            "Epoch 44/210\n",
            "6/6 [==============================] - 0s 6ms/step - loss: 3496.1121 - val_loss: 5739.3325\n",
            "Epoch 45/210\n",
            "6/6 [==============================] - 0s 5ms/step - loss: 3494.1704 - val_loss: 5735.3110\n",
            "Epoch 46/210\n",
            "6/6 [==============================] - 0s 6ms/step - loss: 3492.2651 - val_loss: 5729.7568\n",
            "Epoch 47/210\n",
            "6/6 [==============================] - 0s 5ms/step - loss: 3490.0427 - val_loss: 5725.0703\n",
            "Epoch 48/210\n",
            "6/6 [==============================] - 0s 6ms/step - loss: 3487.8770 - val_loss: 5719.5234\n",
            "Epoch 49/210\n",
            "6/6 [==============================] - 0s 5ms/step - loss: 3485.5452 - val_loss: 5714.0581\n",
            "Epoch 50/210\n",
            "6/6 [==============================] - 0s 7ms/step - loss: 3483.1328 - val_loss: 5708.2852\n",
            "Epoch 51/210\n",
            "6/6 [==============================] - 0s 6ms/step - loss: 3480.6221 - val_loss: 5701.9404\n",
            "Epoch 52/210\n",
            "6/6 [==============================] - 0s 7ms/step - loss: 3477.9392 - val_loss: 5695.7334\n",
            "Epoch 53/210\n",
            "6/6 [==============================] - 0s 6ms/step - loss: 3475.1665 - val_loss: 5690.2891\n",
            "Epoch 54/210\n",
            "6/6 [==============================] - 0s 7ms/step - loss: 3472.2925 - val_loss: 5683.6602\n",
            "Epoch 55/210\n",
            "6/6 [==============================] - 0s 6ms/step - loss: 3469.3179 - val_loss: 5676.3120\n",
            "Epoch 56/210\n",
            "6/6 [==============================] - 0s 7ms/step - loss: 3466.1948 - val_loss: 5668.9570\n",
            "Epoch 57/210\n",
            "6/6 [==============================] - 0s 6ms/step - loss: 3462.9231 - val_loss: 5661.7568\n",
            "Epoch 58/210\n",
            "6/6 [==============================] - 0s 6ms/step - loss: 3459.6941 - val_loss: 5652.3716\n",
            "Epoch 59/210\n",
            "6/6 [==============================] - 0s 5ms/step - loss: 3456.0637 - val_loss: 5644.1196\n",
            "Epoch 60/210\n",
            "6/6 [==============================] - 0s 7ms/step - loss: 3452.4006 - val_loss: 5636.2310\n",
            "Epoch 61/210\n",
            "6/6 [==============================] - 0s 6ms/step - loss: 3448.7417 - val_loss: 5626.7563\n",
            "Epoch 62/210\n",
            "6/6 [==============================] - 0s 6ms/step - loss: 3444.8481 - val_loss: 5616.5835\n",
            "Epoch 63/210\n",
            "6/6 [==============================] - 0s 10ms/step - loss: 3440.8171 - val_loss: 5606.5747\n",
            "Epoch 64/210\n",
            "6/6 [==============================] - 0s 7ms/step - loss: 3436.6646 - val_loss: 5595.8403\n",
            "Epoch 65/210\n",
            "6/6 [==============================] - 0s 6ms/step - loss: 3432.3582 - val_loss: 5584.8750\n",
            "Epoch 66/210\n",
            "6/6 [==============================] - 0s 6ms/step - loss: 3428.0068 - val_loss: 5572.9307\n",
            "Epoch 67/210\n",
            "6/6 [==============================] - 0s 6ms/step - loss: 3423.3718 - val_loss: 5560.5869\n",
            "Epoch 68/210\n",
            "6/6 [==============================] - 0s 7ms/step - loss: 3418.5862 - val_loss: 5550.3604\n",
            "Epoch 69/210\n",
            "6/6 [==============================] - 0s 6ms/step - loss: 3413.8318 - val_loss: 5537.0747\n",
            "Epoch 70/210\n",
            "6/6 [==============================] - 0s 6ms/step - loss: 3408.7834 - val_loss: 5525.2231\n",
            "Epoch 71/210\n",
            "6/6 [==============================] - 0s 6ms/step - loss: 3403.8838 - val_loss: 5510.4556\n",
            "Epoch 72/210\n",
            "6/6 [==============================] - 0s 6ms/step - loss: 3398.3379 - val_loss: 5497.8872\n",
            "Epoch 73/210\n",
            "6/6 [==============================] - 0s 5ms/step - loss: 3393.0312 - val_loss: 5484.2510\n",
            "Epoch 74/210\n",
            "6/6 [==============================] - 0s 5ms/step - loss: 3387.2310 - val_loss: 5471.4448\n",
            "Epoch 75/210\n",
            "6/6 [==============================] - 0s 5ms/step - loss: 3381.6831 - val_loss: 5457.0405\n",
            "Epoch 76/210\n",
            "6/6 [==============================] - 0s 7ms/step - loss: 3375.6919 - val_loss: 5442.6030\n",
            "Epoch 77/210\n",
            "6/6 [==============================] - 0s 7ms/step - loss: 3369.5225 - val_loss: 5428.8955\n",
            "Epoch 78/210\n",
            "6/6 [==============================] - 0s 6ms/step - loss: 3363.6362 - val_loss: 5412.2456\n",
            "Epoch 79/210\n",
            "6/6 [==============================] - 0s 5ms/step - loss: 3357.0276 - val_loss: 5396.9404\n",
            "Epoch 80/210\n",
            "6/6 [==============================] - 0s 5ms/step - loss: 3350.5908 - val_loss: 5379.9062\n",
            "Epoch 81/210\n",
            "6/6 [==============================] - 0s 8ms/step - loss: 3343.8730 - val_loss: 5362.2046\n",
            "Epoch 82/210\n",
            "6/6 [==============================] - 0s 6ms/step - loss: 3336.9497 - val_loss: 5343.3994\n",
            "Epoch 83/210\n",
            "6/6 [==============================] - 0s 6ms/step - loss: 3330.2432 - val_loss: 5321.6763\n",
            "Epoch 84/210\n",
            "6/6 [==============================] - 0s 6ms/step - loss: 3322.8855 - val_loss: 5301.1089\n",
            "Epoch 85/210\n",
            "6/6 [==============================] - 0s 6ms/step - loss: 3315.4424 - val_loss: 5280.8735\n",
            "Epoch 86/210\n",
            "6/6 [==============================] - 0s 6ms/step - loss: 3307.6570 - val_loss: 5263.1694\n",
            "Epoch 87/210\n",
            "6/6 [==============================] - 0s 6ms/step - loss: 3299.9709 - val_loss: 5243.0435\n",
            "Epoch 88/210\n",
            "6/6 [==============================] - 0s 7ms/step - loss: 3292.1077 - val_loss: 5221.9585\n",
            "Epoch 89/210\n",
            "6/6 [==============================] - 0s 6ms/step - loss: 3283.9963 - val_loss: 5200.5591\n",
            "Epoch 90/210\n",
            "6/6 [==============================] - 0s 7ms/step - loss: 3275.6487 - val_loss: 5178.1655\n",
            "Epoch 91/210\n",
            "6/6 [==============================] - 0s 6ms/step - loss: 3267.4875 - val_loss: 5153.1406\n",
            "Epoch 92/210\n",
            "6/6 [==============================] - 0s 6ms/step - loss: 3258.4915 - val_loss: 5131.4878\n",
            "Epoch 93/210\n",
            "6/6 [==============================] - 0s 5ms/step - loss: 3249.5745 - val_loss: 5107.5938\n",
            "Epoch 94/210\n",
            "6/6 [==============================] - 0s 9ms/step - loss: 3240.4395 - val_loss: 5084.7935\n",
            "Epoch 95/210\n",
            "6/6 [==============================] - 0s 6ms/step - loss: 3231.4565 - val_loss: 5059.2979\n",
            "Epoch 96/210\n",
            "6/6 [==============================] - 0s 6ms/step - loss: 3221.7842 - val_loss: 5036.5796\n",
            "Epoch 97/210\n",
            "6/6 [==============================] - 0s 6ms/step - loss: 3212.6636 - val_loss: 5008.5620\n",
            "Epoch 98/210\n",
            "6/6 [==============================] - 0s 6ms/step - loss: 3202.5540 - val_loss: 4982.7554\n",
            "Epoch 99/210\n",
            "6/6 [==============================] - 0s 6ms/step - loss: 3192.5244 - val_loss: 4957.8140\n",
            "Epoch 100/210\n",
            "6/6 [==============================] - 0s 8ms/step - loss: 3182.6165 - val_loss: 4929.6685\n",
            "Epoch 101/210\n",
            "6/6 [==============================] - 0s 6ms/step - loss: 3171.7678 - val_loss: 4905.2837\n",
            "Epoch 102/210\n",
            "6/6 [==============================] - 0s 6ms/step - loss: 3161.1780 - val_loss: 4879.2100\n",
            "Epoch 103/210\n",
            "6/6 [==============================] - 0s 6ms/step - loss: 3150.8105 - val_loss: 4849.1758\n",
            "Epoch 104/210\n",
            "6/6 [==============================] - 0s 5ms/step - loss: 3139.3901 - val_loss: 4825.3335\n",
            "Epoch 105/210\n",
            "6/6 [==============================] - 0s 6ms/step - loss: 3128.4182 - val_loss: 4795.4912\n",
            "Epoch 106/210\n",
            "6/6 [==============================] - 0s 6ms/step - loss: 3116.8870 - val_loss: 4767.0430\n",
            "Epoch 107/210\n",
            "6/6 [==============================] - 0s 6ms/step - loss: 3105.5530 - val_loss: 4735.5576\n",
            "Epoch 108/210\n",
            "6/6 [==============================] - 0s 6ms/step - loss: 3093.5056 - val_loss: 4706.5791\n",
            "Epoch 109/210\n",
            "6/6 [==============================] - 0s 6ms/step - loss: 3081.5356 - val_loss: 4676.7593\n",
            "Epoch 110/210\n",
            "6/6 [==============================] - 0s 6ms/step - loss: 3069.2786 - val_loss: 4644.3306\n",
            "Epoch 111/210\n",
            "6/6 [==============================] - 0s 6ms/step - loss: 3056.6941 - val_loss: 4612.9663\n",
            "Epoch 112/210\n",
            "6/6 [==============================] - 0s 6ms/step - loss: 3044.1523 - val_loss: 4578.8232\n",
            "Epoch 113/210\n",
            "6/6 [==============================] - 0s 7ms/step - loss: 3031.1355 - val_loss: 4545.2661\n",
            "Epoch 114/210\n",
            "6/6 [==============================] - 0s 7ms/step - loss: 3018.5842 - val_loss: 4507.0249\n",
            "Epoch 115/210\n",
            "6/6 [==============================] - 0s 10ms/step - loss: 3004.6580 - val_loss: 4474.8726\n",
            "Epoch 116/210\n",
            "6/6 [==============================] - 0s 5ms/step - loss: 2991.3762 - val_loss: 4437.4883\n",
            "Epoch 117/210\n",
            "6/6 [==============================] - 0s 6ms/step - loss: 2977.3677 - val_loss: 4403.2500\n",
            "Epoch 118/210\n",
            "6/6 [==============================] - 0s 5ms/step - loss: 2963.6304 - val_loss: 4365.8452\n",
            "Epoch 119/210\n",
            "6/6 [==============================] - 0s 6ms/step - loss: 2949.8657 - val_loss: 4326.2109\n",
            "Epoch 120/210\n",
            "6/6 [==============================] - 0s 6ms/step - loss: 2935.0312 - val_loss: 4289.0039\n",
            "Epoch 121/210\n",
            "6/6 [==============================] - 0s 6ms/step - loss: 2920.4441 - val_loss: 4253.2095\n",
            "Epoch 122/210\n",
            "6/6 [==============================] - 0s 5ms/step - loss: 2905.4651 - val_loss: 4214.4038\n",
            "Epoch 123/210\n",
            "6/6 [==============================] - 0s 6ms/step - loss: 2890.8596 - val_loss: 4171.2515\n",
            "Epoch 124/210\n",
            "6/6 [==============================] - 0s 6ms/step - loss: 2875.4448 - val_loss: 4130.4438\n",
            "Epoch 125/210\n",
            "6/6 [==============================] - 0s 6ms/step - loss: 2859.9387 - val_loss: 4088.0977\n",
            "Epoch 126/210\n",
            "6/6 [==============================] - 0s 6ms/step - loss: 2843.9856 - val_loss: 4050.7581\n",
            "Epoch 127/210\n",
            "6/6 [==============================] - 0s 5ms/step - loss: 2828.5220 - val_loss: 4006.8208\n",
            "Epoch 128/210\n",
            "6/6 [==============================] - 0s 7ms/step - loss: 2811.8596 - val_loss: 3967.4048\n",
            "Epoch 129/210\n",
            "6/6 [==============================] - 0s 7ms/step - loss: 2795.5745 - val_loss: 3921.4380\n",
            "Epoch 130/210\n",
            "6/6 [==============================] - 0s 6ms/step - loss: 2779.0894 - val_loss: 3871.9692\n",
            "Epoch 131/210\n",
            "6/6 [==============================] - 0s 6ms/step - loss: 2762.8552 - val_loss: 3820.4158\n",
            "Epoch 132/210\n",
            "6/6 [==============================] - 0s 6ms/step - loss: 2744.9226 - val_loss: 3776.7700\n",
            "Epoch 133/210\n",
            "6/6 [==============================] - 0s 8ms/step - loss: 2727.4231 - val_loss: 3731.4175\n",
            "Epoch 134/210\n",
            "6/6 [==============================] - 0s 6ms/step - loss: 2709.8350 - val_loss: 3686.7583\n",
            "Epoch 135/210\n",
            "6/6 [==============================] - 0s 6ms/step - loss: 2692.5481 - val_loss: 3637.9016\n",
            "Epoch 136/210\n",
            "6/6 [==============================] - 0s 6ms/step - loss: 2674.8059 - val_loss: 3586.3845\n",
            "Epoch 137/210\n",
            "6/6 [==============================] - 0s 6ms/step - loss: 2657.3657 - val_loss: 3534.1653\n",
            "Epoch 138/210\n",
            "6/6 [==============================] - 0s 6ms/step - loss: 2639.0073 - val_loss: 3484.3484\n",
            "Epoch 139/210\n",
            "6/6 [==============================] - 0s 7ms/step - loss: 2620.7336 - val_loss: 3434.9460\n",
            "Epoch 140/210\n",
            "6/6 [==============================] - 0s 7ms/step - loss: 2602.7388 - val_loss: 3381.4182\n",
            "Epoch 141/210\n",
            "6/6 [==============================] - 0s 7ms/step - loss: 2583.5618 - val_loss: 3331.1145\n",
            "Epoch 142/210\n",
            "6/6 [==============================] - 0s 7ms/step - loss: 2564.2441 - val_loss: 3284.7205\n",
            "Epoch 143/210\n",
            "6/6 [==============================] - 0s 7ms/step - loss: 2545.8484 - val_loss: 3226.6169\n",
            "Epoch 144/210\n",
            "6/6 [==============================] - 0s 7ms/step - loss: 2525.7827 - val_loss: 3177.4124\n",
            "Epoch 145/210\n",
            "6/6 [==============================] - 0s 6ms/step - loss: 2506.0598 - val_loss: 3120.8943\n",
            "Epoch 146/210\n",
            "6/6 [==============================] - 0s 6ms/step - loss: 2486.5857 - val_loss: 3063.3574\n",
            "Epoch 147/210\n",
            "6/6 [==============================] - 0s 6ms/step - loss: 2465.9702 - val_loss: 3009.1323\n",
            "Epoch 148/210\n",
            "6/6 [==============================] - 0s 6ms/step - loss: 2445.2080 - val_loss: 2954.5017\n",
            "Epoch 149/210\n",
            "6/6 [==============================] - 0s 8ms/step - loss: 2424.7644 - val_loss: 2891.7366\n",
            "Epoch 150/210\n",
            "6/6 [==============================] - 0s 6ms/step - loss: 2404.0178 - val_loss: 2830.8147\n",
            "Epoch 151/210\n",
            "6/6 [==============================] - 0s 7ms/step - loss: 2382.6460 - val_loss: 2772.1167\n",
            "Epoch 152/210\n",
            "6/6 [==============================] - 0s 8ms/step - loss: 2361.1147 - val_loss: 2712.9883\n",
            "Epoch 153/210\n",
            "6/6 [==============================] - 0s 6ms/step - loss: 2339.5662 - val_loss: 2651.8472\n",
            "Epoch 154/210\n",
            "6/6 [==============================] - 0s 6ms/step - loss: 2317.8828 - val_loss: 2588.7913\n",
            "Epoch 155/210\n",
            "6/6 [==============================] - 0s 6ms/step - loss: 2295.3970 - val_loss: 2531.8289\n",
            "Epoch 156/210\n",
            "6/6 [==============================] - 0s 6ms/step - loss: 2272.6951 - val_loss: 2469.8140\n",
            "Epoch 157/210\n",
            "6/6 [==============================] - 0s 6ms/step - loss: 2250.1257 - val_loss: 2403.2800\n",
            "Epoch 158/210\n",
            "6/6 [==============================] - 0s 6ms/step - loss: 2227.2002 - val_loss: 2336.7415\n",
            "Epoch 159/210\n",
            "6/6 [==============================] - 0s 6ms/step - loss: 2203.6167 - val_loss: 2274.9944\n",
            "Epoch 160/210\n",
            "6/6 [==============================] - 0s 7ms/step - loss: 2180.3372 - val_loss: 2206.7632\n",
            "Epoch 161/210\n",
            "6/6 [==============================] - 0s 6ms/step - loss: 2156.9009 - val_loss: 2139.4285\n",
            "Epoch 162/210\n",
            "6/6 [==============================] - 0s 6ms/step - loss: 2133.3318 - val_loss: 2067.5730\n",
            "Epoch 163/210\n",
            "6/6 [==============================] - 0s 6ms/step - loss: 2107.7461 - val_loss: 2013.4344\n",
            "Epoch 164/210\n",
            "6/6 [==============================] - 0s 6ms/step - loss: 2083.9644 - val_loss: 1944.0131\n",
            "Epoch 165/210\n",
            "6/6 [==============================] - 0s 6ms/step - loss: 2059.2991 - val_loss: 1876.0720\n",
            "Epoch 166/210\n",
            "6/6 [==============================] - 0s 6ms/step - loss: 2035.6256 - val_loss: 1808.9738\n",
            "Epoch 167/210\n",
            "6/6 [==============================] - 0s 5ms/step - loss: 2011.5692 - val_loss: 1733.9172\n",
            "Epoch 168/210\n",
            "6/6 [==============================] - 0s 6ms/step - loss: 1987.4243 - val_loss: 1661.5380\n",
            "Epoch 169/210\n",
            "6/6 [==============================] - 0s 7ms/step - loss: 1962.4634 - val_loss: 1606.1709\n",
            "Epoch 170/210\n",
            "6/6 [==============================] - 0s 6ms/step - loss: 1939.0967 - val_loss: 1536.1658\n",
            "Epoch 171/210\n",
            "6/6 [==============================] - 0s 6ms/step - loss: 1915.1824 - val_loss: 1471.7488\n",
            "Epoch 172/210\n",
            "6/6 [==============================] - 0s 10ms/step - loss: 1891.0560 - val_loss: 1415.7799\n",
            "Epoch 173/210\n",
            "6/6 [==============================] - 0s 6ms/step - loss: 1868.4319 - val_loss: 1352.7687\n",
            "Epoch 174/210\n",
            "6/6 [==============================] - 0s 6ms/step - loss: 1847.8806 - val_loss: 1303.9489\n",
            "Epoch 175/210\n",
            "6/6 [==============================] - 0s 6ms/step - loss: 1826.2385 - val_loss: 1280.1576\n",
            "Epoch 176/210\n",
            "6/6 [==============================] - 0s 7ms/step - loss: 1807.4719 - val_loss: 1252.4000\n",
            "Epoch 177/210\n",
            "6/6 [==============================] - 0s 6ms/step - loss: 1787.5450 - val_loss: 1230.4681\n",
            "Epoch 178/210\n",
            "6/6 [==============================] - 0s 8ms/step - loss: 1769.5437 - val_loss: 1202.1084\n",
            "Epoch 179/210\n",
            "6/6 [==============================] - 0s 5ms/step - loss: 1751.1246 - val_loss: 1173.8324\n",
            "Epoch 180/210\n",
            "6/6 [==============================] - 0s 6ms/step - loss: 1733.2074 - val_loss: 1143.4406\n",
            "Epoch 181/210\n",
            "6/6 [==============================] - 0s 7ms/step - loss: 1713.5985 - val_loss: 1120.0748\n",
            "Epoch 182/210\n",
            "6/6 [==============================] - 0s 6ms/step - loss: 1696.2400 - val_loss: 1097.4486\n",
            "Epoch 183/210\n",
            "6/6 [==============================] - 0s 7ms/step - loss: 1678.7440 - val_loss: 1073.1053\n",
            "Epoch 184/210\n",
            "6/6 [==============================] - 0s 5ms/step - loss: 1660.2292 - val_loss: 1045.8698\n",
            "Epoch 185/210\n",
            "6/6 [==============================] - 0s 6ms/step - loss: 1642.5203 - val_loss: 1016.4516\n",
            "Epoch 186/210\n",
            "6/6 [==============================] - 0s 6ms/step - loss: 1624.7286 - val_loss: 984.8859\n",
            "Epoch 187/210\n",
            "6/6 [==============================] - 0s 6ms/step - loss: 1607.0228 - val_loss: 959.7907\n",
            "Epoch 188/210\n",
            "6/6 [==============================] - 0s 6ms/step - loss: 1589.3258 - val_loss: 940.2457\n",
            "Epoch 189/210\n",
            "6/6 [==============================] - 0s 6ms/step - loss: 1572.7552 - val_loss: 919.0987\n",
            "Epoch 190/210\n",
            "6/6 [==============================] - 0s 6ms/step - loss: 1559.4337 - val_loss: 896.9249\n",
            "Epoch 191/210\n",
            "6/6 [==============================] - 0s 6ms/step - loss: 1543.0421 - val_loss: 879.8612\n",
            "Epoch 192/210\n",
            "6/6 [==============================] - 0s 7ms/step - loss: 1528.9863 - val_loss: 868.3984\n",
            "Epoch 193/210\n",
            "6/6 [==============================] - 0s 7ms/step - loss: 1515.7217 - val_loss: 857.9330\n",
            "Epoch 194/210\n",
            "6/6 [==============================] - 0s 7ms/step - loss: 1502.8750 - val_loss: 844.2095\n",
            "Epoch 195/210\n",
            "6/6 [==============================] - 0s 6ms/step - loss: 1490.2755 - val_loss: 829.5583\n",
            "Epoch 196/210\n",
            "6/6 [==============================] - 0s 7ms/step - loss: 1476.1326 - val_loss: 818.7334\n",
            "Epoch 197/210\n",
            "6/6 [==============================] - 0s 6ms/step - loss: 1463.9125 - val_loss: 808.4293\n",
            "Epoch 198/210\n",
            "6/6 [==============================] - 0s 7ms/step - loss: 1451.6818 - val_loss: 794.9429\n",
            "Epoch 199/210\n",
            "6/6 [==============================] - 0s 7ms/step - loss: 1438.7552 - val_loss: 782.7993\n",
            "Epoch 200/210\n",
            "6/6 [==============================] - 0s 10ms/step - loss: 1427.0347 - val_loss: 773.8240\n",
            "Epoch 201/210\n",
            "6/6 [==============================] - 0s 6ms/step - loss: 1414.5240 - val_loss: 767.8669\n",
            "Epoch 202/210\n",
            "6/6 [==============================] - 0s 6ms/step - loss: 1403.1987 - val_loss: 761.5792\n",
            "Epoch 203/210\n",
            "6/6 [==============================] - 0s 9ms/step - loss: 1390.9283 - val_loss: 754.6669\n",
            "Epoch 204/210\n",
            "6/6 [==============================] - 0s 6ms/step - loss: 1379.2341 - val_loss: 747.6396\n",
            "Epoch 205/210\n",
            "6/6 [==============================] - 0s 6ms/step - loss: 1367.4872 - val_loss: 742.6169\n",
            "Epoch 206/210\n",
            "6/6 [==============================] - 0s 7ms/step - loss: 1356.2605 - val_loss: 736.3638\n",
            "Epoch 207/210\n",
            "6/6 [==============================] - 0s 7ms/step - loss: 1347.2002 - val_loss: 732.2764\n",
            "Epoch 208/210\n",
            "6/6 [==============================] - 0s 7ms/step - loss: 1338.8375 - val_loss: 727.2443\n",
            "Epoch 209/210\n",
            "6/6 [==============================] - 0s 6ms/step - loss: 1330.6055 - val_loss: 723.9653\n",
            "Epoch 210/210\n",
            "6/6 [==============================] - 0s 7ms/step - loss: 1324.3335 - val_loss: 723.2463\n"
          ]
        }
      ],
      "source": [
        "NN_model = Sequential()\n",
        "NN_model.add(Dense(20, input_shape=(scaled_train.shape[1],)))\n",
        "NN_model.add(Dense(10))\n",
        "NN_model.add(Dense(1))\n",
        "NN_model.compile(loss='mean_absolute_error', optimizer=Adam(lr=0.001))\n",
        "NN_model.fit(scaled_train, y_train, validation_data=(\n",
        "    scaled_test, y_test), epochs=210, verbose=1)\n",
        "NN_prediction = NN_model.predict(scaled_test)"
      ]
    },
    {
      "cell_type": "markdown",
      "metadata": {
        "id": "po_y0ZS3eqYp"
      },
      "source": [
        "Let's compare the MAE values."
      ]
    },
    {
      "cell_type": "code",
      "execution_count": 48,
      "metadata": {
        "colab": {
          "base_uri": "https://localhost:8080/"
        },
        "id": "0pFzmyfpeqYp",
        "outputId": "20ab357d-af2c-4e01-af24-78823a75349e"
      },
      "outputs": [
        {
          "output_type": "stream",
          "name": "stdout",
          "text": [
            "XGBOOST MAE =  3194.1184430803573\n",
            "Prophet MAE =  571.8872860781038\n",
            "SARIMAX MAE =  650.6154682219609\n",
            "NN MAE =  723.2462681361607\n"
          ]
        }
      ],
      "source": [
        "print('XGBOOST MAE = ', mean_absolute_error(XGBOOST_prediction, y_test))\n",
        "print('Prophet MAE = ', mean_absolute_error(prophet_future, test))\n",
        "print('SARIMAX MAE = ', mean_absolute_error(sarimax_prediction, test))\n",
        "print('NN MAE = ', mean_absolute_error(NN_prediction, test))\n"
      ]
    },
    {
      "cell_type": "markdown",
      "metadata": {
        "id": "2LhAV1CkeqYp"
      },
      "source": [
        "Finally let us visualize the predictions of all 4 models. Note the autofmt_xdate method in matplotlib, it knows how to appropriately rotate the date labels on the x-axis."
      ]
    },
    {
      "cell_type": "code",
      "execution_count": 49,
      "metadata": {
        "colab": {
          "base_uri": "https://localhost:8080/",
          "height": 317
        },
        "id": "iuTZ-nqjeqYq",
        "outputId": "bb29e5a3-91b4-492e-a2d3-e200259491f5"
      },
      "outputs": [
        {
          "output_type": "display_data",
          "data": {
            "text/plain": [
              "<Figure size 1440x1440 with 0 Axes>"
            ]
          },
          "metadata": {}
        },
        {
          "output_type": "display_data",
          "data": {
            "image/png": "[encoded data removed]",
            "text/plain": [
              "<Figure size 432x288 with 4 Axes>"
            ]
          },
          "metadata": {
            "needs_background": "light"
          }
        }
      ],
      "source": [
        "\n",
        "XGBOOST_df = pd.DataFrame({'y': XGBOOST_prediction.tolist()})\n",
        "XGBOOST_df.index = y_test.index\n",
        "\n",
        "NN_df = pd.DataFrame(NN_prediction)\n",
        "NN_df.index = y_test.index\n",
        "plt.figure(figsize=(20, 20))\n",
        "fig, axs = plt.subplots(2, 2)\n",
        "fig.suptitle('Compare SARIMAX, prophet, XGBOOST and NN')\n",
        "axs[0, 0].plot(dataset.tail(50))\n",
        "axs[0, 0].plot(sarimax_prediction.tail(50))\n",
        "axs[0, 0].set_title(\"SARIMAX\")\n",
        "axs[0, 1].plot(dataset.tail(50))\n",
        "axs[0, 1].plot(prophet_future.tail(50))\n",
        "axs[0, 1].set_title(\"Prophet\")\n",
        "axs[1, 0].plot(dataset.tail(50))\n",
        "axs[1, 0].plot(XGBOOST_df.tail(50))\n",
        "axs[1, 0].set_title(\"XGBOOST\")\n",
        "axs[1, 1].plot(dataset.tail(50))\n",
        "axs[1, 1].plot(NN_df.tail(50))\n",
        "axs[1, 1].set_title(\"NN\")\n",
        "\n",
        "for ax in fig.get_axes():\n",
        "    ax.label_outer()\n",
        "fig.autofmt_xdate() # aligns date strings in x-axis\n",
        "\n",
        "plt.savefig('Comparison',\n",
        "            bbox_inches='tight', transparent=False)"
      ]
    }
  ],
  "metadata": {
    "kernelspec": {
      "display_name": "Python 3",
      "language": "python",
      "name": "python3"
    },
    "language_info": {
      "codemirror_mode": {
        "name": "ipython",
        "version": 3
      },
      "file_extension": ".py",
      "mimetype": "text/x-python",
      "name": "python",
      "nbconvert_exporter": "python",
      "pygments_lexer": "ipython3",
      "version": "3.8.5"
    },
    "colab": {
      "name": "TimeSeriesCOVID19.ipynb",
      "provenance": [],
      "collapsed_sections": [
        "39TTePO3eqYK",
        "WZNtSnVZeqYZ",
        "sri4hJ75eqYf",
        "XA6VzypbeqYj"
      ]
    }
  },
  "nbformat": 4,
  "nbformat_minor": 0
}